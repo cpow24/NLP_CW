{
  "cells": [
    {
      "cell_type": "code",
      "execution_count": null,
      "metadata": {
        "id": "RpuYIkxsZ-BO"
      },
      "outputs": [],
      "source": [
        "%%capture\n",
        "! git clone https://github.com/nishp99/long-doc-coref.git\n",
        "! pip install torch==1.6.0\n",
        "! pip install transformers==4.2.2\n",
        "! pip install scipy==1.4.1\n"
      ]
    },
    {
      "cell_type": "code",
      "execution_count": null,
      "metadata": {
        "colab": {
          "base_uri": "https://localhost:8080/"
        },
        "id": "5c8FEeaRaVjR",
        "outputId": "02a7d693-115c-4ceb-d3de-12489b7141c7"
      },
      "outputs": [
        {
          "output_type": "stream",
          "name": "stdout",
          "text": [
            "[nltk_data] Downloading package punkt to /root/nltk_data...\n",
            "[nltk_data]   Unzipping tokenizers/punkt.zip.\n",
            "Mounted at /content/gdrive\n"
          ]
        }
      ],
      "source": [
        "from google.colab import drive\n",
        "import re\n",
        "import nltk\n",
        "import time\n",
        "nltk.download('punkt')\n",
        "drive.mount('/content/gdrive')\n",
        "import sys\n",
        "sys.path.append('long-doc-coref/src')\n",
        "\n",
        "# This will also download the SpanBERT model finetuned for Coreference (by Joshi et al, 2020) from Huggingface\n",
        "from inference.inference import Inference\n",
        "from  inference.tokenize_doc import *\n",
        "from transformers import BertTokenizerFast"
      ]
    },
    {
      "cell_type": "code",
      "execution_count": null,
      "metadata": {
        "colab": {
          "base_uri": "https://localhost:8080/",
          "height": 183,
          "referenced_widgets": [
            "fe2caf87e2b6467592b0a5e2b1be1f7d",
            "808c15f836424087baa497986398a5e4",
            "6aea4a9bf6da4b558578a3a927920384",
            "ce36c6fd35a8436fbf277176e54af597",
            "34b2e3c759b3438d92f41364a2c48ad1",
            "039ce1647309405e9f990e11b23b3bf1",
            "35864f082a5447b9b9df5c7e350139cd",
            "9beec00257f34d4e8962648b3a6e2bb2",
            "034d13cb1d5b4ecaae30322b2b93c3a8",
            "1147fb5f22ef432db96e5d25382cb227",
            "fce2f7d38bb74d2892df239db206d5ad",
            "ffe8671d46434ddcb0540193738d3536",
            "5a665bca00a549f9abe34ef1aef82ea2",
            "03e9fb35a4304143b756a1f646187fa6",
            "9fa4f6417cb1491f8f00b5d686c4b6a8",
            "f2261c0aa5f94518925caa8c2414a81d",
            "464cc10fc63542739b7b6f5824dcedd3",
            "a613b7ec4552462594734df806a919b8",
            "728be34073514f6ab7db9853a314b208",
            "7e3ae6bc349147ec815815342191917d",
            "e25800d6e3d645ed97f1100b5666a5d0",
            "427f217fcae94d68bc72683940b211df",
            "406e546850aa457e985d695d575cca16",
            "6197a7d1bdb04ab19e10233066734261",
            "cc91c91029ef4ebba94b734f3f31cf49",
            "8f05dc2879334f0f9ff8210ad9977e35",
            "9ea2197b57584f0fb27e7ce8cb2fa85e",
            "a682a5aa92784ba888bfed4d6a965d9c",
            "cd123562db934eb496f2a99f07f7a599",
            "b457dd6b43d2464d920dbc6314596a95",
            "b55321b2fbb24881aa5c11e154cd7466",
            "3a1b216a88fa4994b80b3e999c4225e9",
            "ca0aadf6f00b491984a8eb531820643d",
            "4b6481c780d5459fbf05bfc6b710e8f2",
            "535531cf83374888904156aca859cefb",
            "8a091106a2314778a0788ece62494405",
            "521a1b285c5f4f4e91fd45d07e1e8b34",
            "fab92ca74fbc470ebd9502383850e64e",
            "265cbf81c96f47acad7b1fdf36b76faf",
            "0328758e7a124c9cb956e146f7284904",
            "059cce9571514ef880df0d0cc48c87f4",
            "fae3057edeaf48498f02bd22c40df6ab",
            "135d7833aef94890b4b45e70e7120439",
            "24fb043285c045eeb6a83b35f52b2d58"
          ]
        },
        "id": "EHSLT8pYcr-9",
        "outputId": "50ee0d89-fb61-4f30-a6d0-4542b37f6b76"
      },
      "outputs": [
        {
          "output_type": "display_data",
          "data": {
            "text/plain": [
              "Downloading:   0%|          | 0.00/521 [00:00<?, ?B/s]"
            ],
            "application/vnd.jupyter.widget-view+json": {
              "version_major": 2,
              "version_minor": 0,
              "model_id": "fe2caf87e2b6467592b0a5e2b1be1f7d"
            }
          },
          "metadata": {}
        },
        {
          "output_type": "display_data",
          "data": {
            "text/plain": [
              "Downloading:   0%|          | 0.00/1.33G [00:00<?, ?B/s]"
            ],
            "application/vnd.jupyter.widget-view+json": {
              "version_major": 2,
              "version_minor": 0,
              "model_id": "ffe8671d46434ddcb0540193738d3536"
            }
          },
          "metadata": {}
        },
        {
          "output_type": "display_data",
          "data": {
            "text/plain": [
              "Downloading:   0%|          | 0.00/213k [00:00<?, ?B/s]"
            ],
            "application/vnd.jupyter.widget-view+json": {
              "version_major": 2,
              "version_minor": 0,
              "model_id": "406e546850aa457e985d695d575cca16"
            }
          },
          "metadata": {}
        },
        {
          "output_type": "stream",
          "name": "stdout",
          "text": [
            "{'base_data_dir': '/share/data/speech/shtoshni/research/litbank_coref/data', 'base_model_dir': '/share/data/speech/shtoshni/research/litbank_coref/models', 'dataset': 'litbank', 'conll_scorer': '../lrec2020-coref/reference-coreference-scorers/scorer.pl', 'model_size': 'large', 'doc_enc': 'overlap', 'pretrained_bert_dir': '/share/data/speech/shtoshni/resources', 'max_segment_len': 512, 'max_span_width': 20, 'ment_emb': 'attn', 'top_span_ratio': 0.3, 'mem_type': 'learned', 'num_cells': 20, 'mlp_size': 3000, 'mlp_depth': 1, 'entity_rep': 'wt_avg', 'emb_size': 20, 'cross_val_split': 3, 'new_ent_wt': 2.0, 'num_train_docs': None, 'max_training_segments': 5, 'sample_invalid': 0.25, 'dropout_rate': 0.3, 'label_smoothing_wt': 0.0, 'max_epochs': 25, 'seed': 0, 'init_lr': 0.0002, 'no_singletons': False, 'eval': False, 'slurm_id': '6077327_172', 'model_dir': '/share/data/speech/shtoshni/research/litbank_coref/models/coref_aff65ce80c7eefcce3c2451b554e1e68', 'best_model_dir': '/share/data/speech/shtoshni/research/litbank_coref/models/coref_aff65ce80c7eefcce3c2451b554e1e68/best_models', 'data_dir': '/share/data/speech/shtoshni/research/litbank_coref/data/litbank/overlap/3', 'conll_data_dir': '/share/data/speech/shtoshni/research/litbank_coref/data/litbank/conll/3', 'pretrained_mention_model': '/share/data/speech/shtoshni/research/litbank_coref/models/ment_litbank_width_20_mlp_3000_model_large_emb_attn_type_spanbert_enc_overlap_segment_512_split_3/best_models/model.pth'}\n"
          ]
        },
        {
          "output_type": "display_data",
          "data": {
            "text/plain": [
              "Downloading:   0%|          | 0.00/436k [00:00<?, ?B/s]"
            ],
            "application/vnd.jupyter.widget-view+json": {
              "version_major": 2,
              "version_minor": 0,
              "model_id": "4b6481c780d5459fbf05bfc6b710e8f2"
            }
          },
          "metadata": {}
        }
      ],
      "source": [
        "inference_model = Inference(\"/content/gdrive/MyDrive/coref-model/model.pth\")"
      ]
    },
    {
      "cell_type": "code",
      "execution_count": null,
      "metadata": {
        "id": "YBSw8digmzck"
      },
      "outputs": [],
      "source": [
        "from  inference.tokenize_doc import *"
      ]
    },
    {
      "cell_type": "code",
      "execution_count": null,
      "metadata": {
        "id": "S65NpQYvdTRN"
      },
      "outputs": [],
      "source": [
        "# import Illiad as text file\n",
        "with open('/content/gdrive/MyDrive/coref-model/Iliad[5753].txt') as f:\n",
        "  doc = f.read()\n",
        "doc = re.sub('\\n', ' ', doc)"
      ]
    },
    {
      "cell_type": "code",
      "execution_count": null,
      "metadata": {
        "colab": {
          "base_uri": "https://localhost:8080/"
        },
        "id": "6m67nwv07czK",
        "outputId": "a87ed650-6693-4ac1-f818-b252ac6d625c"
      },
      "outputs": [
        {
          "output_type": "stream",
          "name": "stderr",
          "text": [
            "Token indices sequence length is longer than the specified maximum sequence length for this model (519 > 512). Running this sequence through the model will result in indexing errors\n"
          ]
        }
      ],
      "source": [
        "#extract book 1 from the Illiad\n",
        "re.finditer('BOOK I', doc)\n",
        "[(m.start(0), m.end(0)) for m in re.finditer('BOOK I', doc)]\n",
        "book_1 = doc[16:2000]\n",
        "\n",
        "#tokenize book 1\n",
        "tokenizer = BertTokenizerFast.from_pretrained('bert-base-cased')\n",
        "tokens, subtoken_map = get_tokenized_doc(book_1, tokenizer)\n",
        "doc_tokens = flatten(tokens['sentences'])"
      ]
    },
    {
      "cell_type": "code",
      "source": [
        "print(subtoken_map)"
      ],
      "metadata": {
        "colab": {
          "base_uri": "https://localhost:8080/"
        },
        "id": "KUtlFlsNUUJk",
        "outputId": "944bf42c-bdb0-4038-874d-dfa08649161a"
      },
      "execution_count": null,
      "outputs": [
        {
          "output_type": "stream",
          "name": "stdout",
          "text": [
            "[0, 0, 0, 1, 2, 3, 4, 4, 4, 4, 4, 5, 6, 6, 6, 6, 6, 7, 8, 8, 8, 8, 8, 9, 10, 11, 12, 13, 14, 15, 16, 17, 18, 19, 20, 21, 22, 23, 24, 25, 26, 27, 28, 29, 30, 31, 32, 33, 34, 34, 34, 34, 34, 35, 36, 36, 36, 36, 37, 38, 39, 40, 41, 42, 42, 42, 42, 43, 44, 45, 46, 47, 48, 49, 50, 50, 50, 51, 52, 53, 54, 55, 55, 55, 55, 55, 56, 57, 58, 59, 60, 61, 62, 63, 64, 65, 65, 65, 66, 67, 68, 69, 70, 71, 72, 73, 74, 75, 76, 77, 78, 79, 80, 81, 82, 83, 84, 85, 86, 87, 88, 89, 90, 91, 92, 93, 94, 94, 94, 95, 96, 97, 97, 97, 97, 98, 99, 99, 99, 100, 101, 102, 103, 104, 105, 106, 107, 107, 107, 107, 108, 109, 109, 109, 109, 110, 111, 112, 113, 114, 115, 116, 117, 118, 119, 120, 121, 121, 121, 122, 123, 124, 125, 126, 127, 128, 129, 130, 131, 132, 133, 134, 135, 136, 136, 136, 136, 136, 137, 138, 139, 140, 141, 142, 143, 144, 145, 146, 147, 148, 149, 150, 151, 152, 153, 154, 155, 156, 157, 158, 158, 158, 159, 159, 159, 160, 161, 162, 163, 164, 165, 166, 167, 168, 169, 170, 171, 172, 173, 174, 174, 175, 176, 176, 176, 176, 177, 178, 179, 180, 181, 182, 182, 182, 183, 183, 184, 185, 186, 187, 188, 189, 190, 191, 192, 193, 194, 195, 196, 197, 198, 198, 199, 200, 201, 201, 201, 201, 202, 203, 204, 205, 206, 207, 208, 209, 210, 211, 212, 213, 214, 215, 216, 217, 218, 219, 220, 220, 221, 222, 223, 224, 225, 226, 227, 228, 228, 228, 229, 230, 231, 232, 233, 234, 235, 236, 237, 238, 239, 240, 241, 241, 242, 243, 244, 245, 246, 246, 246, 247, 248, 249, 250, 251, 252, 253, 254, 255, 256, 257, 258, 259, 260, 261, 262, 263, 264, 265, 266, 267, 268, 269, 270, 271, 272, 273, 274, 274, 274, 275, 276, 277, 278, 279, 280, 281, 282, 283, 284, 285, 286, 287, 288, 288, 288, 288, 289, 290, 291, 292, 293, 293, 294, 295, 296, 297, 298, 299, 300, 301, 302, 303, 303, 303, 304, 305, 306, 307, 308, 309, 309, 309, 310, 311, 312, 312, 313, 314, 314, 314, 315, 316, 317, 318, 319, 320, 321, 322, 323, 323, 324, 325, 326, 326, 327, 327, 327, 328, 329, 330, 331, 332, 333, 334, 335, 336, 337, 338, 339, 339, 339, 340, 341, 342, 343, 343, 343, 344, 345, 346, 346, 346, 347, 348, 349, 350, 351, 352, 353, 353, 353, 354, 355, 356, 356, 357, 358, 358, 358, 359, 360, 361, 362, 363, 364, 364, 364, 365, 366, 367, 368, 368, 368, 369, 370, 371, 372, 373, 374, 375, 376, 377, 378, 378, 378, 379, 379, 379, 380, 381, 382, 383, 384, 385, 386, 387, 388, 389, 390, 391, 392, 392, 393, 394, 395, 396, 397, 397, 397, 398, 399, 400, 401, 402, 403, 404, 405, 406, 406]\n"
          ]
        }
      ]
    },
    {
      "cell_type": "code",
      "source": [
        "print(doc_tokens)"
      ],
      "metadata": {
        "colab": {
          "base_uri": "https://localhost:8080/"
        },
        "id": "dxr_k1ck3kVj",
        "outputId": "c927a498-b151-4b72-a6e4-a99eef47c0c3"
      },
      "execution_count": null,
      "outputs": [
        {
          "output_type": "stream",
          "name": "stdout",
          "text": [
            "['B', '##O', '##OK', 'I', '.', 'THE', 'CO', '##NT', '##EN', '##TI', '##ON', 'OF', 'AC', '##H', '##IL', '##LE', '##S', 'AND', 'AG', '##AM', '##EM', '##N', '##ON', '.', 'In', 'the', 'war', 'of', 'Troy', ',', 'the', 'Greeks', 'having', 'sacked', 'some', 'of', 'the', 'neighbouring', 'towns', ',', 'and', 'taken', 'from', 'thence', 'two', 'beautiful', 'captives', ',', 'Ch', '##ry', '##se', '##ï', '##s', 'and', 'B', '##rise', '##ï', '##s', ',', 'allotted', 'the', 'first', 'to', 'A', '##game', '##m', '##non', ',', 'and', 'the', 'last', 'to', 'Achilles', '.', 'Ch', '##ry', '##ses', ',', 'the', 'father', 'of', 'Ch', '##ry', '##se', '##ï', '##s', ',', 'and', 'priest', 'of', 'Apollo', ',', 'comes', 'to', 'the', 'G', '##re', '##cian', 'camp', 'to', 'ransom', 'her', ';', 'with', 'which', 'the', 'action', 'of', 'the', 'poem', 'opens', ',', 'in', 'the', 'tenth', 'year', 'of', 'the', 'siege', '.', 'The', 'priest', 'being', 'refused', ',', 'and', 'ins', '##ole', '##ntly', 'dismissed', 'by', 'A', '##game', '##m', '##non', ',', 'en', '##tre', '##ats', 'for', 'vengeance', 'from', 'his', 'god', ';', 'who', 'in', '##f', '##lic', '##ts', 'a', 'p', '##est', '##ile', '##nce', 'on', 'the', 'Greeks', '.', 'Achilles', 'calls', 'a', 'council', ',', 'and', 'encourages', 'Cha', '##l', '##cas', 'to', 'declare', 'the', 'cause', 'of', 'it', ';', 'who', 'attributes', 'it', 'to', 'the', 'refusal', 'of', 'Ch', '##ry', '##se', '##ï', '##s', '.', 'The', 'king', ',', 'being', 'obliged', 'to', 'send', 'back', 'his', 'captive', ',', 'enters', 'into', 'a', 'furious', 'contest', 'with', 'Achilles', ',', 'which', 'N', '##est', '##or', 'p', '##ac', '##ifies', ';', 'however', ',', 'as', 'he', 'had', 'the', 'absolute', 'command', 'of', 'the', 'army', ',', 'he', 'seize', '##s', 'on', 'B', '##rise', '##ï', '##s', 'in', 'revenge', '.', 'Achilles', 'in', 'disco', '##nte', '##nt', 'withdraw', '##s', 'himself', 'and', 'his', 'forces', 'from', 'the', 'rest', 'of', 'the', 'Greeks', ';', 'and', 'complaining', 'to', 'The', '##tis', ',', 'she', 'su', '##pp', '##lica', '##tes', 'Jupiter', 'to', 'render', 'them', 'sensible', 'of', 'the', 'wrong', 'done', 'to', 'her', 'son', ',', 'by', 'giving', 'victory', 'to', 'the', 'Trojan', '##s', '.', 'Jupiter', ',', 'granting', 'her', 'suit', ',', 'in', '##cens', '##es', 'Juno', ':', 'between', 'whom', 'the', 'debate', 'runs', 'high', ',', 'till', 'they', 'are', 'reconcile', '##d', 'by', 'the', 'address', 'of', 'V', '##ul', '##can', '.', 'The', 'time', 'of', 'two', '-', 'and', '-', 'twenty', 'days', 'is', 'taken', 'up', 'in', 'this', 'book', ':', 'nine', 'during', 'the', 'plague', ',', 'one', 'in', 'the', 'council', 'and', 'q', '##ua', '##rrel', 'of', 'the', 'princes', ',', 'and', 'twelve', 'for', 'Jupiter', '’', 's', 'stay', 'with', 'the', 'Æ', '##thi', '##op', '##ians', ',', 'at', 'whose', 'return', 'The', '##tis', 'prefers', 'her', 'petition', '.', 'The', 'scene', 'lies', 'in', 'the', 'G', '##re', '##cian', 'camp', ',', 'then', 'changes', 'to', 'Ch', '##ry', '##sa', ',', 'and', 'last', '##ly', 'to', 'O', '##ly', '##mpus', '.', 'Achilles', '’', 'wrath', ',', 'to', 'Greece', 'the', 'dire', '##ful', 'spring', 'Of', 'w', '##oes', 'un', '##num', '##ber', '’', 'd', ',', 'heavenly', 'goddess', ',', 'sing', '!', 'That', 'wrath', 'which', 'h', '##ur', '##l', '’', 'd', 'to', 'P', '##lut', '##o', '’', 's', 'g', '##loom', '##y', 'reign', 'The', 'souls', 'of', 'mighty', 'chiefs', 'un', '##time', '##ly', 'slain', ';', 'Who', '##se', 'limbs', 'un', '##bur', '##ied', 'on', 'the', 'naked', 'shore', ',', 'Dev', '##our', '##ing', 'dogs', 'and', 'hungry', 'v', '##ulture', '##s', 'tore', '.', '[', '41', ']', 'Since', 'great', 'Achilles', 'and', 'At', '##ride', '##s', 's', '##tro', '##ve', ',', 'Such', 'was', 'the', 'sovereign', 'doom', ',', 'and', 'such', 'the', 'will', 'of', 'Jo', '##ve', '!', '[', '42', ']', 'Dec', '##lar', '##e', ',', 'O', 'Muse', '!', 'in', 'what', 'ill', '-', 'fate', '##d']\n"
          ]
        }
      ]
    },
    {
      "cell_type": "code",
      "execution_count": null,
      "metadata": {
        "id": "kc-LJvgjdT9_",
        "colab": {
          "base_uri": "https://localhost:8080/"
        },
        "outputId": "383bda86-9581-47a1-8ee3-6a7dd33d30d2"
      },
      "outputs": [
        {
          "output_type": "stream",
          "name": "stderr",
          "text": [
            "Token indices sequence length is longer than the specified maximum sequence length for this model (519 > 512). Running this sequence through the model will result in indexing errors\n"
          ]
        }
      ],
      "source": [
        "\n",
        "nnts = time.time()\n",
        "output = inference_model.perform_coreference(book_1)\n",
        "#print(time.time() - ts)"
      ]
    },
    {
      "cell_type": "code",
      "execution_count": null,
      "metadata": {
        "id": "TF14DuClT9FW"
      },
      "outputs": [],
      "source": [
        "import torch\n",
        "num_c = 106353\n",
        "num_words = 5000\n",
        "doc_range = torch.unsqueeze(torch.arange(num_words), 0).repeat(num_c, 1)"
      ]
    },
    {
      "cell_type": "code",
      "execution_count": null,
      "metadata": {
        "id": "wwb9-LwJb8PL"
      },
      "outputs": [],
      "source": [
        ""
      ]
    },
    {
      "cell_type": "code",
      "execution_count": null,
      "metadata": {
        "id": "me3pgOCG_eAN"
      },
      "outputs": [],
      "source": [
        "true_clusters = []\n",
        "for cluster in output['subtoken_idx_clusters']:\n",
        "  mentions = []\n",
        "  for mention in cluster:\n",
        "    idx_string_pair = (mention, doc_tokens[mention[0] : mention[1] + 1])\n",
        "    mentions.append(idx_string_pair)\n",
        "  true_clusters.append(mentions)\n",
        "\n"
      ]
    },
    {
      "cell_type": "code",
      "execution_count": null,
      "metadata": {
        "id": "pvzCKdmOFu_X",
        "colab": {
          "base_uri": "https://localhost:8080/"
        },
        "outputId": "fad1444a-ecea-4934-f043-e5a8e75df951"
      },
      "outputs": [
        {
          "output_type": "stream",
          "name": "stdout",
          "text": [
            "[((18, 22), ['AG', '##AM', '##EM', '##N', '##ON'])]\n",
            "[((36, 38), ['the', 'neighbouring', 'towns'])]\n",
            "[((44, 46), ['two', 'beautiful', 'captives'])]\n",
            "[((34, 38), ['some', 'of', 'the', 'neighbouring', 'towns'])]\n",
            "[((12, 16), ['AC', '##H', '##IL', '##LE', '##S'])]\n",
            "[((28, 28), ['Troy'])]\n",
            "[((78, 90), ['the', 'father', 'of', 'Ch', '##ry', '##se', '##ï', '##s', ',', 'and', 'priest', 'of', 'Apollo'])]\n",
            "[((78, 85), ['the', 'father', 'of', 'Ch', '##ry', '##se', '##ï', '##s'])]\n",
            "[((88, 90), ['priest', 'of', 'Apollo'])]\n",
            "[((90, 90), ['Apollo'])]\n",
            "[((225, 226), ['the', 'army'])]\n",
            "[((74, 76), ['Ch', '##ry', '##ses']), ((120, 121), ['The', 'priest']), ((142, 142), ['his'])]\n",
            "[((161, 162), ['a', 'council'])]\n",
            "[((251, 255), ['the', 'rest', 'of', 'the', 'Greeks'])]\n",
            "[((166, 168), ['Cha', '##l', '##cas'])]\n",
            "[((209, 211), ['N', '##est', '##or']), ((219, 219), ['he']), ((228, 228), ['he'])]\n",
            "[((298, 298), ['Juno'])]\n",
            "[((406, 406), ['Greece'])]\n",
            "[((308, 308), ['they'])]\n",
            "[((30, 31), ['the', 'Greeks']), ((156, 157), ['the', 'Greeks']), ((254, 255), ['the', 'Greeks']), ((271, 271), ['them']), ((285, 287), ['the', 'Trojan', '##s'])]\n",
            "[((268, 268), ['Jupiter']), ((289, 289), ['Jupiter']), ((356, 356), ['Jupiter'])]\n",
            "[((482, 484), ['At', '##ride', '##s'])]\n",
            "[((260, 261), ['The', '##tis']), ((263, 263), ['she']), ((278, 278), ['her']), ((292, 292), ['her']), ((370, 371), ['The', '##tis']), ((373, 373), ['her']), ((420, 421), ['heavenly', 'goddess'])]\n",
            "[((48, 52), ['Ch', '##ry', '##se', '##ï', '##s']), ((81, 85), ['Ch', '##ry', '##se', '##ï', '##s']), ((101, 101), ['her']), ((183, 187), ['Ch', '##ry', '##se', '##ï', '##s']), ((197, 198), ['his', 'captive'])]\n",
            "[((54, 57), ['B', '##rise', '##ï', '##s']), ((232, 235), ['B', '##rise', '##ï', '##s'])]\n",
            "[((63, 66), ['A', '##game', '##m', '##non']), ((131, 134), ['A', '##game', '##m', '##non']), ((189, 190), ['The', 'king']), ((197, 197), ['his'])]\n",
            "[((72, 72), ['Achilles']), ((159, 159), ['Achilles']), ((206, 206), ['Achilles']), ((239, 239), ['Achilles']), ((246, 246), ['himself']), ((248, 248), ['his']), ((278, 279), ['her', 'son']), ((401, 401), ['Achilles']), ((479, 480), ['great', 'Achilles'])]\n",
            "[((434, 436), ['P', '##lut', '##o'])]\n",
            "[((361, 365), ['the', 'Æ', '##thi', '##op', '##ians'])]\n",
            "[((350, 351), ['the', 'princes'])]\n",
            "[((389, 391), ['Ch', '##ry', '##sa'])]\n",
            "[((397, 399), ['O', '##ly', '##mpus'])]\n",
            "[((94, 98), ['the', 'G', '##re', '##cian', 'camp']), ((380, 384), ['the', 'G', '##re', '##cian', 'camp'])]\n",
            "[((446, 447), ['mighty', 'chiefs'])]\n",
            "[((500, 501), ['Jo', '##ve'])]\n",
            "[((510, 511), ['O', 'Muse'])]\n"
          ]
        }
      ],
      "source": [
        "for cluster in true_clusters:\n",
        "  #if len(cluster) > 1:\n",
        "    print(cluster)"
      ]
    },
    {
      "cell_type": "code",
      "execution_count": null,
      "metadata": {
        "id": "M-pkpJvrdfrh",
        "colab": {
          "base_uri": "https://localhost:8080/"
        },
        "outputId": "12b5d7c8-0235-4933-9e6c-fdbbdceccaf6"
      },
      "outputs": [
        {
          "output_type": "stream",
          "name": "stdout",
          "text": [
            "[((8, 8), 'AGAMEMNON')]\n",
            "[((22, 24), 'the neighbouring towns')]\n",
            "[((30, 32), 'two beautiful captives')]\n",
            "[((20, 24), 'some of the neighbouring towns')]\n",
            "[((6, 6), 'ACHILLES')]\n",
            "[((14, 14), 'Troy')]\n",
            "[((52, 60), 'the father of Chryseïs, and priest of Apollo')]\n",
            "[((52, 55), 'the father of Chryseïs')]\n",
            "[((58, 60), 'priest of Apollo')]\n",
            "[((60, 60), 'Apollo')]\n",
            "[((170, 171), 'the army')]\n",
            "[((50, 50), 'Chryses'), ((88, 89), 'The priest'), ((103, 103), 'his')]\n",
            "[((116, 117), 'a council')]\n",
            "[((189, 193), 'the rest of the Greeks')]\n",
            "[((121, 121), 'Chalcas')]\n",
            "[((158, 158), 'Nestor'), ((164, 164), 'he'), ((173, 173), 'he')]\n",
            "[((229, 229), 'Juno')]\n",
            "[((321, 321), 'Greece')]\n",
            "[((239, 239), 'they')]\n",
            "[((16, 17), 'the Greeks'), ((111, 112), 'the Greeks'), ((192, 193), 'the Greeks'), ((205, 205), 'them'), ((219, 220), 'the Trojans')]\n",
            "[((202, 202), 'Jupiter'), ((222, 222), 'Jupiter'), ((282, 282), 'Jupiter')]\n",
            "[((378, 378), 'Atrides')]\n",
            "[((198, 198), 'Thetis'), ((200, 200), 'she'), ((212, 212), 'her'), ((225, 225), 'her'), ((293, 293), 'Thetis'), ((295, 295), 'her'), ((331, 332), 'heavenly goddess')]\n",
            "[((34, 34), 'Chryseïs'), ((55, 55), 'Chryseïs'), ((69, 69), 'her'), ((136, 136), 'Chryseïs'), ((146, 147), 'his captive')]\n",
            "[((36, 36), 'Briseïs'), ((176, 176), 'Briseïs')]\n",
            "[((42, 42), 'Agamemnon'), ((97, 97), 'Agamemnon'), ((138, 139), 'The king'), ((146, 146), 'his')]\n",
            "[((48, 48), 'Achilles'), ((114, 114), 'Achilles'), ((155, 155), 'Achilles'), ((180, 180), 'Achilles'), ((184, 184), 'himself'), ((186, 186), 'his'), ((212, 213), 'her son'), ((316, 316), 'Achilles'), ((375, 376), 'great Achilles')]\n",
            "[((343, 343), 'Pluto')]\n",
            "[((287, 288), 'the Æthiopians')]\n",
            "[((276, 277), 'the princes')]\n",
            "[((309, 309), 'Chrysa')]\n",
            "[((314, 314), 'Olympus')]\n",
            "[((64, 66), 'the Grecian camp'), ((302, 304), 'the Grecian camp')]\n",
            "[((351, 352), 'mighty chiefs')]\n",
            "[((392, 392), 'Jove')]\n",
            "[((399, 400), 'O Muse')]\n"
          ]
        }
      ],
      "source": [
        "for cluster in output[\"clusters\"]:\n",
        "  print(cluster)"
      ]
    },
    {
      "cell_type": "code",
      "execution_count": null,
      "metadata": {
        "id": "H3olofWED5X1"
      },
      "outputs": [],
      "source": [
        "output['subtoken_idx_clusters']"
      ]
    },
    {
      "cell_type": "code",
      "source": [
        "print(book_1)"
      ],
      "metadata": {
        "colab": {
          "base_uri": "https://localhost:8080/"
        },
        "id": "EXxrk1gd2VjP",
        "outputId": "b08e18b7-08ae-4659-c242-e1bbc6a54c7c"
      },
      "execution_count": null,
      "outputs": [
        {
          "output_type": "stream",
          "name": "stdout",
          "text": [
            "BOOK I.    THE CONTENTION OF ACHILLES AND AGAMEMNON.   In the war of Troy, the Greeks having sacked some of the neighbouring towns, and taken from thence two beautiful captives, Chryseïs and Briseïs, allotted the first to Agamemnon, and the last to Achilles. Chryses, the father of Chryseïs, and priest of Apollo, comes to the Grecian camp to ransom her; with which the action of the poem opens, in the tenth year of the siege. The priest being refused, and insolently dismissed by Agamemnon, entreats for vengeance from his god; who inflicts a pestilence on the Greeks. Achilles calls a council, and encourages Chalcas to declare the cause of it; who attributes it to the refusal of Chryseïs. The king, being obliged to send back his captive, enters into a furious contest with Achilles, which Nestor pacifies; however, as he had the absolute command of the army, he seizes on Briseïs in revenge. Achilles in discontent withdraws himself and his forces from the rest of the Greeks; and complaining to Thetis, she supplicates Jupiter to render them sensible of the wrong done to her son, by giving victory to the Trojans. Jupiter, granting her suit, incenses Juno: between whom the debate runs high, till they are reconciled by the address of Vulcan.     The time of two-and-twenty days is taken up in this book: nine     during the plague, one in the council and quarrel of the princes,     and twelve for Jupiter’s stay with the Æthiopians, at whose return     Thetis prefers her petition. The scene lies in the Grecian camp,     then changes to Chrysa, and lastly to Olympus.   Achilles’ wrath, to Greece the direful spring Of woes unnumber’d, heavenly goddess, sing! That wrath which hurl’d to Pluto’s gloomy reign The souls of mighty chiefs untimely slain; Whose limbs unburied on the naked shore, Devouring dogs and hungry vultures tore.[41] Since great Achilles and Atrides strove, Such was the sovereign doom, and such the will of Jove![42]  Declare, O Muse! in what ill-fated\n"
          ]
        }
      ]
    },
    {
      "cell_type": "code",
      "source": [
        "print(doc_tokens)"
      ],
      "metadata": {
        "colab": {
          "base_uri": "https://localhost:8080/"
        },
        "id": "75yujeHOYWVj",
        "outputId": "8a6f19d5-1210-497e-d072-5388174b4786"
      },
      "execution_count": null,
      "outputs": [
        {
          "output_type": "stream",
          "name": "stdout",
          "text": [
            "['B', '##O', '##OK', 'I', '.', 'THE', 'CO', '##NT', '##EN', '##TI', '##ON', 'OF', 'AC', '##H', '##IL', '##LE', '##S', 'AND', 'AG', '##AM', '##EM', '##N', '##ON', '.', 'In', 'the', 'war', 'of', 'Troy', ',', 'the', 'Greeks', 'having', 'sacked', 'some', 'of', 'the', 'neighbouring', 'towns', ',', 'and', 'taken', 'from', 'thence', 'two', 'beautiful', 'captives', ',', 'Ch', '##ry', '##se', '##ï', '##s', 'and', 'B', '##rise', '##ï', '##s', ',', 'allotted', 'the', 'first', 'to', 'A', '##game', '##m', '##non', ',', 'and', 'the', 'last', 'to', 'Achilles', '.', 'Ch', '##ry', '##ses', ',', 'the', 'father', 'of', 'Ch', '##ry', '##se', '##ï', '##s', ',', 'and', 'priest', 'of', 'Apollo', ',', 'comes', 'to', 'the', 'G', '##re', '##cian', 'camp', 'to', 'ransom', 'her', ';', 'with', 'which', 'the', 'action', 'of', 'the', 'poem', 'opens', ',', 'in', 'the', 'tenth', 'year', 'of', 'the', 'siege', '.', 'The', 'priest', 'being', 'refused', ',', 'and', 'ins', '##ole', '##ntly', 'dismissed', 'by', 'A', '##game', '##m', '##non', ',', 'en', '##tre', '##ats', 'for', 'vengeance', 'from', 'his', 'god', ';', 'who', 'in', '##f', '##lic', '##ts', 'a', 'p', '##est', '##ile', '##nce', 'on', 'the', 'Greeks', '.', 'Achilles', 'calls', 'a', 'council', ',', 'and', 'encourages', 'Cha', '##l', '##cas', 'to', 'declare', 'the', 'cause', 'of', 'it', ';', 'who', 'attributes', 'it', 'to', 'the', 'refusal', 'of', 'Ch', '##ry', '##se', '##ï', '##s', '.', 'The', 'king', ',', 'being', 'obliged', 'to', 'send', 'back', 'his', 'captive', ',', 'enters', 'into', 'a', 'furious', 'contest', 'with', 'Achilles', ',', 'which', 'N', '##est', '##or', 'p', '##ac', '##ifies', ';', 'however', ',', 'as', 'he', 'had', 'the', 'absolute', 'command', 'of', 'the', 'army', ',', 'he', 'seize', '##s', 'on', 'B', '##rise', '##ï', '##s', 'in', 'revenge', '.', 'Achilles', 'in', 'disco', '##nte', '##nt', 'withdraw', '##s', 'himself', 'and', 'his', 'forces', 'from', 'the', 'rest', 'of', 'the', 'Greeks', ';', 'and', 'complaining', 'to', 'The', '##tis', ',', 'she', 'su', '##pp', '##lica', '##tes', 'Jupiter', 'to', 'render', 'them', 'sensible', 'of', 'the', 'wrong', 'done', 'to', 'her', 'son', ',', 'by', 'giving', 'victory', 'to', 'the', 'Trojan', '##s', '.', 'Jupiter', ',', 'granting', 'her', 'suit', ',', 'in', '##cens', '##es', 'Juno', ':', 'between', 'whom', 'the', 'debate', 'runs', 'high', ',', 'till', 'they', 'are', 'reconcile', '##d', 'by', 'the', 'address', 'of', 'V', '##ul', '##can', '.', 'The', 'time', 'of', 'two', '-', 'and', '-', 'twenty', 'days', 'is', 'taken', 'up', 'in', 'this', 'book', ':', 'nine', 'during', 'the', 'plague', ',', 'one', 'in', 'the', 'council', 'and', 'q', '##ua', '##rrel', 'of', 'the', 'princes', ',', 'and', 'twelve', 'for', 'Jupiter', '’', 's', 'stay', 'with', 'the', 'Æ', '##thi', '##op', '##ians', ',', 'at', 'whose', 'return', 'The', '##tis', 'prefers', 'her', 'petition', '.', 'The', 'scene', 'lies', 'in', 'the', 'G', '##re', '##cian', 'camp', ',', 'then', 'changes', 'to', 'Ch', '##ry', '##sa', ',', 'and', 'last', '##ly', 'to', 'O', '##ly', '##mpus', '.', 'Achilles', '’', 'wrath', ',', 'to', 'Greece', 'the', 'dire', '##ful', 'spring', 'Of', 'w', '##oes', 'un', '##num', '##ber', '’', 'd', ',', 'heavenly', 'goddess', ',', 'sing', '!', 'That', 'wrath', 'which', 'h', '##ur', '##l', '’', 'd', 'to', 'P', '##lut', '##o', '’', 's', 'g', '##loom', '##y', 'reign', 'The', 'souls', 'of', 'mighty', 'chiefs', 'un', '##time', '##ly', 'slain', ';', 'Who', '##se', 'limbs', 'un', '##bur', '##ied', 'on', 'the', 'naked', 'shore', ',', 'Dev', '##our', '##ing', 'dogs', 'and', 'hungry', 'v', '##ulture', '##s', 'tore', '.', '[', '41', ']', 'Since', 'great', 'Achilles', 'and', 'At', '##ride', '##s', 's', '##tro', '##ve', ',', 'Such', 'was', 'the', 'sovereign', 'doom', ',', 'and', 'such', 'the', 'will', 'of', 'Jo', '##ve', '!', '[', '42', ']', 'Dec', '##lar', '##e', ',', 'O', 'Muse', '!', 'in', 'what', 'ill', '-', 'fate', '##d']\n"
          ]
        }
      ]
    },
    {
      "cell_type": "code",
      "source": [
        "\"\"\"\n",
        "Function that given the subtoken indices of a mention, extracts the start and end indices of the (subtokenized) sentence\n",
        "containing the mention. Also given the subtoken map (indices corresponding each subtoken to a document level index in the original text),\n",
        "the indices are converted to document level indices\n",
        "\"\"\"\n",
        "\n",
        "def get_subtokenized_sentence_indices(s,e, subtokens, map):\n",
        "  check_start = True\n",
        "  check_end = True\n",
        "  i = 1\n",
        "  start = s\n",
        "  end = e\n",
        "  while check_start:\n",
        "    if subtokens[s-i] == '.' or subtokens[s-i] == '?' or subtokens[s-i] == '!':\n",
        "      start = s - i + 1\n",
        "      check_start = False\n",
        "    else:\n",
        "      i += 1\n",
        "  i = 0\n",
        "  while check_end:\n",
        "    if subtokens[e + i] == '.' or subtokens[e-i] == '?' or subtokens[e-i] == '!':\n",
        "      end = e + i + 1\n",
        "      check_end = False\n",
        "    else:\n",
        "      i += 1\n",
        "  return map[start], map[end]"
      ],
      "metadata": {
        "id": "LAWM7A_4Yk7-"
      },
      "execution_count": null,
      "outputs": []
    },
    {
      "cell_type": "code",
      "source": [
        "\"\"\"\n",
        "Function that given the subtoken map (indices corresponding each subtoken to a document level index in the original text)\n",
        "and the subtoken indices, the indices of the start and end words of the sentence is returned\n",
        "\"\"\"\n",
        "\n",
        "def get_document_indices(start, end, map):\n",
        "  return map[start], map[end]"
      ],
      "metadata": {
        "id": "IaMHGoeviKUx"
      },
      "execution_count": null,
      "outputs": []
    },
    {
      "cell_type": "code",
      "source": [
        "\"\"\"\n",
        "Returns sentence given the start and end indices within original text\n",
        "\"\"\"\n",
        "\n",
        "def get_sentence(word_idx_start, word_idx_end, document):\n",
        "  return document[word_idx_start: word_idx_end]"
      ],
      "metadata": {
        "id": "zugVQjM3iM4U"
      },
      "execution_count": null,
      "outputs": []
    },
    {
      "cell_type": "code",
      "source": [
        "\"\"\"\n",
        "given a cluster in true cluster, return the indices of the starts and ends of sentences containing mentions as a list of tuples\n",
        "\"\"\"\n",
        "\n",
        "def get_subtoken_indices(cluster, subtokens, map):\n",
        "  mentions = []\n",
        "  for mention in cluster:\n",
        "    (mentions.append(get_subtokenized_sentence_indices(mention[0][0],mention[0][1], subtokens, map)))\n",
        "  return mentions"
      ],
      "metadata": {
        "id": "rcs0s86PEIwf"
      },
      "execution_count": null,
      "outputs": []
    },
    {
      "cell_type": "code",
      "source": [
        "\"\"\"\n",
        "Now do a second method, where the document level indices of all ('.', '!' and '?')\n",
        "are first stored in a list. Then given a mention, its document level index is placed in between \n",
        "the punctation indices by some sort of sorting algorithm. It may be more efficient to extract shared\n",
        "sentences using this method.\n",
        "\"\"\""
      ],
      "metadata": {
        "colab": {
          "base_uri": "https://localhost:8080/",
          "height": 53
        },
        "id": "bfxlsV3PFfaZ",
        "outputId": "784dd9c6-8627-4ec6-bce6-5a36c9122f6b"
      },
      "execution_count": null,
      "outputs": [
        {
          "output_type": "execute_result",
          "data": {
            "text/plain": [
              "\"\\nNow do a second method, where the document level indices of all ('.', '!' and '?')\\nare first stored in a list. Then given a mention, its document level index is placed in between \\nthe punctation indices by some sort of sorting algorithm. It may be more efficient to extract shared\\nsentences using this method.\\n\""
            ],
            "application/vnd.google.colaboratory.intrinsic+json": {
              "type": "string"
            }
          },
          "metadata": {},
          "execution_count": 21
        }
      ]
    },
    {
      "cell_type": "code",
      "source": [
        "\"\"\"\n",
        "inverse mapping of tokenized text to list text\n",
        "\"\"\"\n",
        "def inv_map(tokenized_text):\n",
        "  text = []\n",
        "  for i in tokenized_text:\n",
        "    if len(i) < 3:\n",
        "      text.append(i)\n",
        "    elif i[0:2] != '##':\n",
        "      text.append(i)\n",
        "    else:\n",
        "      text[-1] = text[-1] + i[2:]\n",
        "  return text"
      ],
      "metadata": {
        "id": "Emokvk9x5olJ"
      },
      "execution_count": null,
      "outputs": []
    },
    {
      "cell_type": "code",
      "source": [
        "print(inv_map(doc_tokens))"
      ],
      "metadata": {
        "colab": {
          "base_uri": "https://localhost:8080/"
        },
        "id": "4qnvWsuLHx_R",
        "outputId": "6229c268-697b-405e-fb5c-6402bca55d28"
      },
      "execution_count": null,
      "outputs": [
        {
          "output_type": "stream",
          "name": "stdout",
          "text": [
            "['BOOK', 'I', '.', 'THE', 'CONTENTION', 'OF', 'ACHILLES', 'AND', 'AGAMEMNON', '.', 'In', 'the', 'war', 'of', 'Troy', ',', 'the', 'Greeks', 'having', 'sacked', 'some', 'of', 'the', 'neighbouring', 'towns', ',', 'and', 'taken', 'from', 'thence', 'two', 'beautiful', 'captives', ',', 'Chryseïs', 'and', 'Briseïs', ',', 'allotted', 'the', 'first', 'to', 'Agamemnon', ',', 'and', 'the', 'last', 'to', 'Achilles', '.', 'Chryses', ',', 'the', 'father', 'of', 'Chryseïs', ',', 'and', 'priest', 'of', 'Apollo', ',', 'comes', 'to', 'the', 'Grecian', 'camp', 'to', 'ransom', 'her', ';', 'with', 'which', 'the', 'action', 'of', 'the', 'poem', 'opens', ',', 'in', 'the', 'tenth', 'year', 'of', 'the', 'siege', '.', 'The', 'priest', 'being', 'refused', ',', 'and', 'insolently', 'dismissed', 'by', 'Agamemnon', ',', 'entreats', 'for', 'vengeance', 'from', 'his', 'god', ';', 'who', 'inflicts', 'a', 'pestilence', 'on', 'the', 'Greeks', '.', 'Achilles', 'calls', 'a', 'council', ',', 'and', 'encourages', 'Chalcas', 'to', 'declare', 'the', 'cause', 'of', 'it', ';', 'who', 'attributes', 'it', 'to', 'the', 'refusal', 'of', 'Chryseïs', '.', 'The', 'king', ',', 'being', 'obliged', 'to', 'send', 'back', 'his', 'captive', ',', 'enters', 'into', 'a', 'furious', 'contest', 'with', 'Achilles', ',', 'which', 'Nestor', 'pacifies', ';', 'however', ',', 'as', 'he', 'had', 'the', 'absolute', 'command', 'of', 'the', 'army', ',', 'he', 'seizes', 'on', 'Briseïs', 'in', 'revenge', '.', 'Achilles', 'in', 'discontent', 'withdraws', 'himself', 'and', 'his', 'forces', 'from', 'the', 'rest', 'of', 'the', 'Greeks', ';', 'and', 'complaining', 'to', 'Thetis', ',', 'she', 'supplicates', 'Jupiter', 'to', 'render', 'them', 'sensible', 'of', 'the', 'wrong', 'done', 'to', 'her', 'son', ',', 'by', 'giving', 'victory', 'to', 'the', 'Trojans', '.', 'Jupiter', ',', 'granting', 'her', 'suit', ',', 'incenses', 'Juno', ':', 'between', 'whom', 'the', 'debate', 'runs', 'high', ',', 'till', 'they', 'are', 'reconciled', 'by', 'the', 'address', 'of', 'Vulcan', '.', 'The', 'time', 'of', 'two', '-', 'and', '-', 'twenty', 'days', 'is', 'taken', 'up', 'in', 'this', 'book', ':', 'nine', 'during', 'the', 'plague', ',', 'one', 'in', 'the', 'council', 'and', 'quarrel', 'of', 'the', 'princes', ',', 'and', 'twelve', 'for', 'Jupiter', '’', 's', 'stay', 'with', 'the', 'Æthiopians', ',', 'at', 'whose', 'return', 'Thetis', 'prefers', 'her', 'petition', '.', 'The', 'scene', 'lies', 'in', 'the', 'Grecian', 'camp', ',', 'then', 'changes', 'to', 'Chrysa', ',', 'and', 'lastly', 'to', 'Olympus', '.', 'Achilles', '’', 'wrath', ',', 'to', 'Greece', 'the', 'direful', 'spring', 'Of', 'woes', 'unnumber', '’', 'd', ',', 'heavenly', 'goddess', ',', 'sing', '!', 'That', 'wrath', 'which', 'hurl', '’', 'd', 'to', 'Pluto', '’', 's', 'gloomy', 'reign', 'The', 'souls', 'of', 'mighty', 'chiefs', 'untimely', 'slain', ';', 'Whose', 'limbs', 'unburied', 'on', 'the', 'naked', 'shore', ',', 'Devouring', 'dogs', 'and', 'hungry', 'vultures', 'tore', '.', '[', '41', ']', 'Since', 'great', 'Achilles', 'and', 'Atrides', 'strove', ',', 'Such', 'was', 'the', 'sovereign', 'doom', ',', 'and', 'such', 'the', 'will', 'of', 'Jove', '!', '[', '42', ']', 'Declare', ',', 'O', 'Muse', '!', 'in', 'what', 'ill', '-', 'fated']\n"
          ]
        }
      ]
    },
    {
      "cell_type": "code",
      "source": [
        "\"\"\"\n",
        "Input: Document in list form, including punctuation as elements of list\n",
        "Output: List of indexes of all sentence separating punctuation ('.' '?' '!')\n",
        "\"\"\"\n",
        "\n",
        "def punctuation_indices(document):\n",
        "  indices = [i for i, x in enumerate(document) if x == '.' or x == '?' or x == '!']\n",
        "  return indices"
      ],
      "metadata": {
        "id": "sr-OTkx-CKfD"
      },
      "execution_count": null,
      "outputs": []
    },
    {
      "cell_type": "code",
      "source": [
        "print(punctuation_indices(inv_map(doc_tokens)))\n",
        "punc_indices = punctuation_indices(inv_map(doc_tokens))"
      ],
      "metadata": {
        "colab": {
          "base_uri": "https://localhost:8080/"
        },
        "id": "siko6C7vCgoP",
        "outputId": "947cc696-3d0c-40ca-9e97-f184e0580440"
      },
      "execution_count": null,
      "outputs": [
        {
          "output_type": "stream",
          "name": "stdout",
          "text": [
            "[2, 9, 49, 87, 113, 137, 179, 221, 247, 297, 315, 335, 370, 393, 401]\n"
          ]
        }
      ]
    },
    {
      "cell_type": "code",
      "source": [
        "import numpy as np\n",
        "\n",
        "\"\"\"\n",
        "Input: list of sentence separating punctuation indices, and a single cluster (entity name, and all its mentions' indices)\n",
        "Output: Augmented list of punctuation indices (includes the mention indices in between the punctuation indices,\n",
        "and has the corresponding entity name in the 2nd column)\n",
        "\"\"\"\n",
        "def add_entity_indices(punc_indices, clusters):\n",
        "  augmented_list = punc_indices.copy()\n",
        "  for i in range(len(augmented_list)):\n",
        "    augmented_list[i] = [augmented_list[i],0]\n",
        "\n",
        "  index_additives = np.zeros(len(punc_indices))\n",
        "\n",
        "  for cluster in clusters:\n",
        "    starting_index = 0\n",
        "    for i in range(len(cluster)-1):\n",
        "      for j in range(len(punc_indices[starting_index:])):\n",
        "        if cluster[i][0] > punc_indices[starting_index + j] and cluster[i][0] < punc_indices[starting_index + j+1]:\n",
        "          index_additives[starting_index + j:] += 1\n",
        "          augmented_list.insert(starting_index + j + int(index_additives.item(starting_index + j)), [cluster[i][0],cluster[-1]])\n",
        "          starting_index += j + 1\n",
        "          break\n",
        "  return augmented_list"
      ],
      "metadata": {
        "id": "o9Yq2q9K5wU_"
      },
      "execution_count": null,
      "outputs": []
    },
    {
      "cell_type": "code",
      "source": [
        "clusters = [[(3,4), (130,133), 1],[(5,5), (399,399), 2]]\n",
        "indices_1 = add_entity_indices(punc_indices, clusters)\n",
        "indices_1 = np.asarray(indices_1)"
      ],
      "metadata": {
        "id": "b6o382bW7ud-"
      },
      "execution_count": null,
      "outputs": []
    },
    {
      "cell_type": "code",
      "source": [
        "print(indices_1[:,1])"
      ],
      "metadata": {
        "colab": {
          "base_uri": "https://localhost:8080/"
        },
        "id": "fYTkmjKNlD1a",
        "outputId": "2e3c4e31-7616-468f-d80f-2414beafa20f"
      },
      "execution_count": null,
      "outputs": [
        {
          "output_type": "stream",
          "name": "stdout",
          "text": [
            "[0 1 2 0 0 0 0 1 0 0 0 0 0 0 0 0 0 2 0]\n"
          ]
        }
      ]
    },
    {
      "cell_type": "code",
      "source": [
        "\"\"\"\n",
        "Input: Augmented list of punctuation indices with character mentions and characters (represented by number, e.g. Achilles = 1, agamemnon = 2)\n",
        "Output: Shared sentence indices and corresponding character numbers\n",
        "\"\"\"\n",
        "\n",
        "def shared_sentences(indices):\n",
        "  characters = []\n",
        "  zeros = np.where(indices == 0)[0]\n",
        "  for i in range(np.shape(indices[:,1])[0]-1):\n",
        "    if indices[:,1][i] == 0 and indices[:,1][i+1] != 0 and indices[:,1][i+2] != 0:\n",
        "      characters.append([(indices.item(i,0)+1 , indices.item(zeros[np.where(zeros == i)[0][0] + 1],0)+1) , indices[i+1:zeros[np.where(zeros == i)[0][0] + 1],1].tolist()])\n",
        "  return characters"
      ],
      "metadata": {
        "id": "XMwgXwVEdYpt"
      },
      "execution_count": null,
      "outputs": []
    },
    {
      "cell_type": "code",
      "source": [
        "\"\"\"\n",
        "Input: List of 'shared' sentence beginning and end indices, with corresponding\n",
        "numbers representing the characters involved\n",
        "Output: Removes all entries where the same character appears more than once\n",
        "with no other character in the sentence\n",
        "\"\"\"\n",
        "\n",
        "def remove_same(sentences):\n",
        "  remove = []\n",
        "  count = 0\n",
        "  for i in sentences:\n",
        "    if len(i[1]) == 2 and i[1][0] == i[1][1]:\n",
        "      remove.append(count)\n",
        "    count += 1\n",
        "  remove = remove.reverse()\n",
        "  for i in remove:\n",
        "    sentences.pop(i)\n",
        "  return sentences\n"
      ],
      "metadata": {
        "id": "qwrNIZSb4xbG"
      },
      "execution_count": null,
      "outputs": []
    },
    {
      "cell_type": "code",
      "source": [
        "\"\"\"\n",
        "convert list text to normal document text\n",
        "\"\"\"\n",
        "\n",
        "def list_to_doc(text):\n",
        "  string = ' '.join(word for word in text)\n",
        "  string = string.replace(' .', '.')\n",
        "  string = string.replace(' ,', ',')\n",
        "  string = string.replace(' !', '!')\n",
        "  string = string.replace(' ?', '?')\n",
        "  string = string.replace(' ;', ';')\n",
        "  string = string.replace(' :', ':')\n",
        "  string = string.replace('[ ', '[')\n",
        "  string = string.replace(' ]', ']')\n",
        "  string = string.replace(\" ' \", \"'\")\n",
        "  string = string.replace(\"s'\", \"s' \")\n",
        "\n"
      ],
      "metadata": {
        "colab": {
          "base_uri": "https://localhost:8080/"
        },
        "id": "7YBmrZzqqYwe",
        "outputId": "78504d45-b31b-45ff-ad13-6869c31c4942"
      },
      "execution_count": null,
      "outputs": [
        {
          "output_type": "stream",
          "name": "stdout",
          "text": [
            "[ 0  3  4  5  6  8  9 10 11 12 13 14 15 16 18]\n"
          ]
        }
      ]
    },
    {
      "cell_type": "code",
      "source": [
        "\"\"\"\n",
        "Input: list of character names with corresponding number representing character,\n",
        "list of clusters (not tokenized)\n",
        "Output: List of clusters, streamlined so there are only mention indices and 1 number representing\n",
        "the corresponding character, and clusters now only refer to character mentions now, no object mentions that slipped through the coref\n",
        "\"\"\"\n",
        "\n",
        "def augment_clusters_1(clusters, characters):\n",
        "  augmented_clusters = []\n",
        "  for cluster in clusters:\n",
        "    check = False\n",
        "    for i in cluster:\n",
        "      for character in characters:\n",
        "        if i[1] == character[1]:\n",
        "          check = True\n",
        "          number = character[0]\n",
        "          characters.remove(character)\n",
        "          break\n",
        "      if check:\n",
        "        break\n",
        "    if check:\n",
        "      indices = [i[0] for i in cluster]\n",
        "      indices.append(number)\n",
        "      augmented_clusters.append(indices)\n",
        "\n",
        "  return augmented_clusters\n"
      ],
      "metadata": {
        "id": "rLc7g2jCqcu3"
      },
      "execution_count": null,
      "outputs": []
    },
    {
      "cell_type": "code",
      "source": [
        "\"\"\"\n",
        "Same function as above, but this takes inputs of a singular (possibly multiple?) mention index for \n",
        "each character instead of string search by name\n",
        "\"\"\"\n",
        "\n",
        "def augment_clusters_2(clusters, characters):\n",
        "  augmented_clusters = []\n",
        "  for cluster in clusters:\n",
        "    check = False\n",
        "    for i in cluster:\n",
        "      for character in characters:\n",
        "        if i[0][0] == character[1]:\n",
        "          check = True\n",
        "          number = character[0]\n",
        "          characters.remove(character)\n",
        "          break\n",
        "      if check:\n",
        "        break\n",
        "    if check:\n",
        "      indices = [i[0] for i in cluster]\n",
        "      indices.append(number)\n",
        "      augmented_clusters.append(indices)\n",
        "\n",
        "  return augmented_clusters"
      ],
      "metadata": {
        "id": "lhv_J4S3Y-EL"
      },
      "execution_count": null,
      "outputs": []
    },
    {
      "cell_type": "code",
      "source": [
        "clusters = [i for i in output[\"clusters\"]]\n",
        "characters = [[1,'Achilles'], [2, 'Agamemnon']]\n"
      ],
      "metadata": {
        "id": "yKqmuQuhumpC"
      },
      "execution_count": null,
      "outputs": []
    },
    {
      "cell_type": "code",
      "source": [
        "\"\"\"\n",
        "Puts all the functions together\n",
        "\"\"\"\n",
        "\n",
        "def big_function(clusters, characters, list_text):\n",
        "  augmented_clusters = augment_clusters_1(clusters, characters)\n",
        "  punctuation_indices = punctuation_indices(list_text)\n",
        "  augmented_indices = add_entity_indices(punctuation_indices, augmented_clusters)\n",
        "  shared = shared_sentences(augmented_indices)\n",
        "  cleaned_shared = remove_same(shared)\n",
        "\n",
        "  return cleaned_shared\n"
      ],
      "metadata": {
        "id": "Zb5HqM1qX-bv"
      },
      "execution_count": null,
      "outputs": []
    },
    {
      "cell_type": "code",
      "source": [
        "\"\"\"\n",
        "unfinished\n",
        "Input: list of characters (their numbers) and name\n",
        "output: character pair encoding dictionary\n",
        "\"\"\"\n",
        "def character_pair_encoder(characters):\n",
        "  n = len(characters)\n",
        "  t = list(range(n+1))\n",
        "  t = torch.tensor(t)**2\n",
        "  d = torch.unsqueeze(t,1)\n",
        "  d = d.repeat(1,15)\n",
        "  c = d.T\n",
        "  totals = (c+d)[1:,1:]\n",
        "  \n",
        "  empty = torch.empty(0)\n",
        "  for i in range(n):\n",
        "    empty = torch.cat((empty,totals[i,i+1:]), 0)\n",
        "    for j in \n",
        "  \n",
        "\n",
        "\n",
        "    a = characters[:][1]\n"
      ],
      "metadata": {
        "id": "OOCRpZAjYxe9"
      },
      "execution_count": 2,
      "outputs": []
    },
    {
      "cell_type": "code",
      "source": [
        ""
      ],
      "metadata": {
        "id": "WslQfWqFb5Ty"
      },
      "execution_count": null,
      "outputs": []
    }
  ],
  "metadata": {
    "colab": {
      "collapsed_sections": [],
      "name": "Nishil's coref.ipynb",
      "provenance": []
    },
    "kernelspec": {
      "display_name": "Python 3",
      "name": "python3"
    },
    "language_info": {
      "name": "python"
    },
    "widgets": {
      "application/vnd.jupyter.widget-state+json": {
        "fe2caf87e2b6467592b0a5e2b1be1f7d": {
          "model_module": "@jupyter-widgets/controls",
          "model_name": "HBoxModel",
          "model_module_version": "1.5.0",
          "state": {
            "_dom_classes": [],
            "_model_module": "@jupyter-widgets/controls",
            "_model_module_version": "1.5.0",
            "_model_name": "HBoxModel",
            "_view_count": null,
            "_view_module": "@jupyter-widgets/controls",
            "_view_module_version": "1.5.0",
            "_view_name": "HBoxView",
            "box_style": "",
            "children": [
              "IPY_MODEL_808c15f836424087baa497986398a5e4",
              "IPY_MODEL_6aea4a9bf6da4b558578a3a927920384",
              "IPY_MODEL_ce36c6fd35a8436fbf277176e54af597"
            ],
            "layout": "IPY_MODEL_34b2e3c759b3438d92f41364a2c48ad1"
          }
        },
        "808c15f836424087baa497986398a5e4": {
          "model_module": "@jupyter-widgets/controls",
          "model_name": "HTMLModel",
          "model_module_version": "1.5.0",
          "state": {
            "_dom_classes": [],
            "_model_module": "@jupyter-widgets/controls",
            "_model_module_version": "1.5.0",
            "_model_name": "HTMLModel",
            "_view_count": null,
            "_view_module": "@jupyter-widgets/controls",
            "_view_module_version": "1.5.0",
            "_view_name": "HTMLView",
            "description": "",
            "description_tooltip": null,
            "layout": "IPY_MODEL_039ce1647309405e9f990e11b23b3bf1",
            "placeholder": "​",
            "style": "IPY_MODEL_35864f082a5447b9b9df5c7e350139cd",
            "value": "Downloading: 100%"
          }
        },
        "6aea4a9bf6da4b558578a3a927920384": {
          "model_module": "@jupyter-widgets/controls",
          "model_name": "FloatProgressModel",
          "model_module_version": "1.5.0",
          "state": {
            "_dom_classes": [],
            "_model_module": "@jupyter-widgets/controls",
            "_model_module_version": "1.5.0",
            "_model_name": "FloatProgressModel",
            "_view_count": null,
            "_view_module": "@jupyter-widgets/controls",
            "_view_module_version": "1.5.0",
            "_view_name": "ProgressView",
            "bar_style": "success",
            "description": "",
            "description_tooltip": null,
            "layout": "IPY_MODEL_9beec00257f34d4e8962648b3a6e2bb2",
            "max": 521,
            "min": 0,
            "orientation": "horizontal",
            "style": "IPY_MODEL_034d13cb1d5b4ecaae30322b2b93c3a8",
            "value": 521
          }
        },
        "ce36c6fd35a8436fbf277176e54af597": {
          "model_module": "@jupyter-widgets/controls",
          "model_name": "HTMLModel",
          "model_module_version": "1.5.0",
          "state": {
            "_dom_classes": [],
            "_model_module": "@jupyter-widgets/controls",
            "_model_module_version": "1.5.0",
            "_model_name": "HTMLModel",
            "_view_count": null,
            "_view_module": "@jupyter-widgets/controls",
            "_view_module_version": "1.5.0",
            "_view_name": "HTMLView",
            "description": "",
            "description_tooltip": null,
            "layout": "IPY_MODEL_1147fb5f22ef432db96e5d25382cb227",
            "placeholder": "​",
            "style": "IPY_MODEL_fce2f7d38bb74d2892df239db206d5ad",
            "value": " 521/521 [00:00&lt;00:00, 12.5kB/s]"
          }
        },
        "34b2e3c759b3438d92f41364a2c48ad1": {
          "model_module": "@jupyter-widgets/base",
          "model_name": "LayoutModel",
          "model_module_version": "1.2.0",
          "state": {
            "_model_module": "@jupyter-widgets/base",
            "_model_module_version": "1.2.0",
            "_model_name": "LayoutModel",
            "_view_count": null,
            "_view_module": "@jupyter-widgets/base",
            "_view_module_version": "1.2.0",
            "_view_name": "LayoutView",
            "align_content": null,
            "align_items": null,
            "align_self": null,
            "border": null,
            "bottom": null,
            "display": null,
            "flex": null,
            "flex_flow": null,
            "grid_area": null,
            "grid_auto_columns": null,
            "grid_auto_flow": null,
            "grid_auto_rows": null,
            "grid_column": null,
            "grid_gap": null,
            "grid_row": null,
            "grid_template_areas": null,
            "grid_template_columns": null,
            "grid_template_rows": null,
            "height": null,
            "justify_content": null,
            "justify_items": null,
            "left": null,
            "margin": null,
            "max_height": null,
            "max_width": null,
            "min_height": null,
            "min_width": null,
            "object_fit": null,
            "object_position": null,
            "order": null,
            "overflow": null,
            "overflow_x": null,
            "overflow_y": null,
            "padding": null,
            "right": null,
            "top": null,
            "visibility": null,
            "width": null
          }
        },
        "039ce1647309405e9f990e11b23b3bf1": {
          "model_module": "@jupyter-widgets/base",
          "model_name": "LayoutModel",
          "model_module_version": "1.2.0",
          "state": {
            "_model_module": "@jupyter-widgets/base",
            "_model_module_version": "1.2.0",
            "_model_name": "LayoutModel",
            "_view_count": null,
            "_view_module": "@jupyter-widgets/base",
            "_view_module_version": "1.2.0",
            "_view_name": "LayoutView",
            "align_content": null,
            "align_items": null,
            "align_self": null,
            "border": null,
            "bottom": null,
            "display": null,
            "flex": null,
            "flex_flow": null,
            "grid_area": null,
            "grid_auto_columns": null,
            "grid_auto_flow": null,
            "grid_auto_rows": null,
            "grid_column": null,
            "grid_gap": null,
            "grid_row": null,
            "grid_template_areas": null,
            "grid_template_columns": null,
            "grid_template_rows": null,
            "height": null,
            "justify_content": null,
            "justify_items": null,
            "left": null,
            "margin": null,
            "max_height": null,
            "max_width": null,
            "min_height": null,
            "min_width": null,
            "object_fit": null,
            "object_position": null,
            "order": null,
            "overflow": null,
            "overflow_x": null,
            "overflow_y": null,
            "padding": null,
            "right": null,
            "top": null,
            "visibility": null,
            "width": null
          }
        },
        "35864f082a5447b9b9df5c7e350139cd": {
          "model_module": "@jupyter-widgets/controls",
          "model_name": "DescriptionStyleModel",
          "model_module_version": "1.5.0",
          "state": {
            "_model_module": "@jupyter-widgets/controls",
            "_model_module_version": "1.5.0",
            "_model_name": "DescriptionStyleModel",
            "_view_count": null,
            "_view_module": "@jupyter-widgets/base",
            "_view_module_version": "1.2.0",
            "_view_name": "StyleView",
            "description_width": ""
          }
        },
        "9beec00257f34d4e8962648b3a6e2bb2": {
          "model_module": "@jupyter-widgets/base",
          "model_name": "LayoutModel",
          "model_module_version": "1.2.0",
          "state": {
            "_model_module": "@jupyter-widgets/base",
            "_model_module_version": "1.2.0",
            "_model_name": "LayoutModel",
            "_view_count": null,
            "_view_module": "@jupyter-widgets/base",
            "_view_module_version": "1.2.0",
            "_view_name": "LayoutView",
            "align_content": null,
            "align_items": null,
            "align_self": null,
            "border": null,
            "bottom": null,
            "display": null,
            "flex": null,
            "flex_flow": null,
            "grid_area": null,
            "grid_auto_columns": null,
            "grid_auto_flow": null,
            "grid_auto_rows": null,
            "grid_column": null,
            "grid_gap": null,
            "grid_row": null,
            "grid_template_areas": null,
            "grid_template_columns": null,
            "grid_template_rows": null,
            "height": null,
            "justify_content": null,
            "justify_items": null,
            "left": null,
            "margin": null,
            "max_height": null,
            "max_width": null,
            "min_height": null,
            "min_width": null,
            "object_fit": null,
            "object_position": null,
            "order": null,
            "overflow": null,
            "overflow_x": null,
            "overflow_y": null,
            "padding": null,
            "right": null,
            "top": null,
            "visibility": null,
            "width": null
          }
        },
        "034d13cb1d5b4ecaae30322b2b93c3a8": {
          "model_module": "@jupyter-widgets/controls",
          "model_name": "ProgressStyleModel",
          "model_module_version": "1.5.0",
          "state": {
            "_model_module": "@jupyter-widgets/controls",
            "_model_module_version": "1.5.0",
            "_model_name": "ProgressStyleModel",
            "_view_count": null,
            "_view_module": "@jupyter-widgets/base",
            "_view_module_version": "1.2.0",
            "_view_name": "StyleView",
            "bar_color": null,
            "description_width": ""
          }
        },
        "1147fb5f22ef432db96e5d25382cb227": {
          "model_module": "@jupyter-widgets/base",
          "model_name": "LayoutModel",
          "model_module_version": "1.2.0",
          "state": {
            "_model_module": "@jupyter-widgets/base",
            "_model_module_version": "1.2.0",
            "_model_name": "LayoutModel",
            "_view_count": null,
            "_view_module": "@jupyter-widgets/base",
            "_view_module_version": "1.2.0",
            "_view_name": "LayoutView",
            "align_content": null,
            "align_items": null,
            "align_self": null,
            "border": null,
            "bottom": null,
            "display": null,
            "flex": null,
            "flex_flow": null,
            "grid_area": null,
            "grid_auto_columns": null,
            "grid_auto_flow": null,
            "grid_auto_rows": null,
            "grid_column": null,
            "grid_gap": null,
            "grid_row": null,
            "grid_template_areas": null,
            "grid_template_columns": null,
            "grid_template_rows": null,
            "height": null,
            "justify_content": null,
            "justify_items": null,
            "left": null,
            "margin": null,
            "max_height": null,
            "max_width": null,
            "min_height": null,
            "min_width": null,
            "object_fit": null,
            "object_position": null,
            "order": null,
            "overflow": null,
            "overflow_x": null,
            "overflow_y": null,
            "padding": null,
            "right": null,
            "top": null,
            "visibility": null,
            "width": null
          }
        },
        "fce2f7d38bb74d2892df239db206d5ad": {
          "model_module": "@jupyter-widgets/controls",
          "model_name": "DescriptionStyleModel",
          "model_module_version": "1.5.0",
          "state": {
            "_model_module": "@jupyter-widgets/controls",
            "_model_module_version": "1.5.0",
            "_model_name": "DescriptionStyleModel",
            "_view_count": null,
            "_view_module": "@jupyter-widgets/base",
            "_view_module_version": "1.2.0",
            "_view_name": "StyleView",
            "description_width": ""
          }
        },
        "ffe8671d46434ddcb0540193738d3536": {
          "model_module": "@jupyter-widgets/controls",
          "model_name": "HBoxModel",
          "model_module_version": "1.5.0",
          "state": {
            "_dom_classes": [],
            "_model_module": "@jupyter-widgets/controls",
            "_model_module_version": "1.5.0",
            "_model_name": "HBoxModel",
            "_view_count": null,
            "_view_module": "@jupyter-widgets/controls",
            "_view_module_version": "1.5.0",
            "_view_name": "HBoxView",
            "box_style": "",
            "children": [
              "IPY_MODEL_5a665bca00a549f9abe34ef1aef82ea2",
              "IPY_MODEL_03e9fb35a4304143b756a1f646187fa6",
              "IPY_MODEL_9fa4f6417cb1491f8f00b5d686c4b6a8"
            ],
            "layout": "IPY_MODEL_f2261c0aa5f94518925caa8c2414a81d"
          }
        },
        "5a665bca00a549f9abe34ef1aef82ea2": {
          "model_module": "@jupyter-widgets/controls",
          "model_name": "HTMLModel",
          "model_module_version": "1.5.0",
          "state": {
            "_dom_classes": [],
            "_model_module": "@jupyter-widgets/controls",
            "_model_module_version": "1.5.0",
            "_model_name": "HTMLModel",
            "_view_count": null,
            "_view_module": "@jupyter-widgets/controls",
            "_view_module_version": "1.5.0",
            "_view_name": "HTMLView",
            "description": "",
            "description_tooltip": null,
            "layout": "IPY_MODEL_464cc10fc63542739b7b6f5824dcedd3",
            "placeholder": "​",
            "style": "IPY_MODEL_a613b7ec4552462594734df806a919b8",
            "value": "Downloading: 100%"
          }
        },
        "03e9fb35a4304143b756a1f646187fa6": {
          "model_module": "@jupyter-widgets/controls",
          "model_name": "FloatProgressModel",
          "model_module_version": "1.5.0",
          "state": {
            "_dom_classes": [],
            "_model_module": "@jupyter-widgets/controls",
            "_model_module_version": "1.5.0",
            "_model_name": "FloatProgressModel",
            "_view_count": null,
            "_view_module": "@jupyter-widgets/controls",
            "_view_module_version": "1.5.0",
            "_view_name": "ProgressView",
            "bar_style": "success",
            "description": "",
            "description_tooltip": null,
            "layout": "IPY_MODEL_728be34073514f6ab7db9853a314b208",
            "max": 1334406708,
            "min": 0,
            "orientation": "horizontal",
            "style": "IPY_MODEL_7e3ae6bc349147ec815815342191917d",
            "value": 1334406708
          }
        },
        "9fa4f6417cb1491f8f00b5d686c4b6a8": {
          "model_module": "@jupyter-widgets/controls",
          "model_name": "HTMLModel",
          "model_module_version": "1.5.0",
          "state": {
            "_dom_classes": [],
            "_model_module": "@jupyter-widgets/controls",
            "_model_module_version": "1.5.0",
            "_model_name": "HTMLModel",
            "_view_count": null,
            "_view_module": "@jupyter-widgets/controls",
            "_view_module_version": "1.5.0",
            "_view_name": "HTMLView",
            "description": "",
            "description_tooltip": null,
            "layout": "IPY_MODEL_e25800d6e3d645ed97f1100b5666a5d0",
            "placeholder": "​",
            "style": "IPY_MODEL_427f217fcae94d68bc72683940b211df",
            "value": " 1.33G/1.33G [00:30&lt;00:00, 47.5MB/s]"
          }
        },
        "f2261c0aa5f94518925caa8c2414a81d": {
          "model_module": "@jupyter-widgets/base",
          "model_name": "LayoutModel",
          "model_module_version": "1.2.0",
          "state": {
            "_model_module": "@jupyter-widgets/base",
            "_model_module_version": "1.2.0",
            "_model_name": "LayoutModel",
            "_view_count": null,
            "_view_module": "@jupyter-widgets/base",
            "_view_module_version": "1.2.0",
            "_view_name": "LayoutView",
            "align_content": null,
            "align_items": null,
            "align_self": null,
            "border": null,
            "bottom": null,
            "display": null,
            "flex": null,
            "flex_flow": null,
            "grid_area": null,
            "grid_auto_columns": null,
            "grid_auto_flow": null,
            "grid_auto_rows": null,
            "grid_column": null,
            "grid_gap": null,
            "grid_row": null,
            "grid_template_areas": null,
            "grid_template_columns": null,
            "grid_template_rows": null,
            "height": null,
            "justify_content": null,
            "justify_items": null,
            "left": null,
            "margin": null,
            "max_height": null,
            "max_width": null,
            "min_height": null,
            "min_width": null,
            "object_fit": null,
            "object_position": null,
            "order": null,
            "overflow": null,
            "overflow_x": null,
            "overflow_y": null,
            "padding": null,
            "right": null,
            "top": null,
            "visibility": null,
            "width": null
          }
        },
        "464cc10fc63542739b7b6f5824dcedd3": {
          "model_module": "@jupyter-widgets/base",
          "model_name": "LayoutModel",
          "model_module_version": "1.2.0",
          "state": {
            "_model_module": "@jupyter-widgets/base",
            "_model_module_version": "1.2.0",
            "_model_name": "LayoutModel",
            "_view_count": null,
            "_view_module": "@jupyter-widgets/base",
            "_view_module_version": "1.2.0",
            "_view_name": "LayoutView",
            "align_content": null,
            "align_items": null,
            "align_self": null,
            "border": null,
            "bottom": null,
            "display": null,
            "flex": null,
            "flex_flow": null,
            "grid_area": null,
            "grid_auto_columns": null,
            "grid_auto_flow": null,
            "grid_auto_rows": null,
            "grid_column": null,
            "grid_gap": null,
            "grid_row": null,
            "grid_template_areas": null,
            "grid_template_columns": null,
            "grid_template_rows": null,
            "height": null,
            "justify_content": null,
            "justify_items": null,
            "left": null,
            "margin": null,
            "max_height": null,
            "max_width": null,
            "min_height": null,
            "min_width": null,
            "object_fit": null,
            "object_position": null,
            "order": null,
            "overflow": null,
            "overflow_x": null,
            "overflow_y": null,
            "padding": null,
            "right": null,
            "top": null,
            "visibility": null,
            "width": null
          }
        },
        "a613b7ec4552462594734df806a919b8": {
          "model_module": "@jupyter-widgets/controls",
          "model_name": "DescriptionStyleModel",
          "model_module_version": "1.5.0",
          "state": {
            "_model_module": "@jupyter-widgets/controls",
            "_model_module_version": "1.5.0",
            "_model_name": "DescriptionStyleModel",
            "_view_count": null,
            "_view_module": "@jupyter-widgets/base",
            "_view_module_version": "1.2.0",
            "_view_name": "StyleView",
            "description_width": ""
          }
        },
        "728be34073514f6ab7db9853a314b208": {
          "model_module": "@jupyter-widgets/base",
          "model_name": "LayoutModel",
          "model_module_version": "1.2.0",
          "state": {
            "_model_module": "@jupyter-widgets/base",
            "_model_module_version": "1.2.0",
            "_model_name": "LayoutModel",
            "_view_count": null,
            "_view_module": "@jupyter-widgets/base",
            "_view_module_version": "1.2.0",
            "_view_name": "LayoutView",
            "align_content": null,
            "align_items": null,
            "align_self": null,
            "border": null,
            "bottom": null,
            "display": null,
            "flex": null,
            "flex_flow": null,
            "grid_area": null,
            "grid_auto_columns": null,
            "grid_auto_flow": null,
            "grid_auto_rows": null,
            "grid_column": null,
            "grid_gap": null,
            "grid_row": null,
            "grid_template_areas": null,
            "grid_template_columns": null,
            "grid_template_rows": null,
            "height": null,
            "justify_content": null,
            "justify_items": null,
            "left": null,
            "margin": null,
            "max_height": null,
            "max_width": null,
            "min_height": null,
            "min_width": null,
            "object_fit": null,
            "object_position": null,
            "order": null,
            "overflow": null,
            "overflow_x": null,
            "overflow_y": null,
            "padding": null,
            "right": null,
            "top": null,
            "visibility": null,
            "width": null
          }
        },
        "7e3ae6bc349147ec815815342191917d": {
          "model_module": "@jupyter-widgets/controls",
          "model_name": "ProgressStyleModel",
          "model_module_version": "1.5.0",
          "state": {
            "_model_module": "@jupyter-widgets/controls",
            "_model_module_version": "1.5.0",
            "_model_name": "ProgressStyleModel",
            "_view_count": null,
            "_view_module": "@jupyter-widgets/base",
            "_view_module_version": "1.2.0",
            "_view_name": "StyleView",
            "bar_color": null,
            "description_width": ""
          }
        },
        "e25800d6e3d645ed97f1100b5666a5d0": {
          "model_module": "@jupyter-widgets/base",
          "model_name": "LayoutModel",
          "model_module_version": "1.2.0",
          "state": {
            "_model_module": "@jupyter-widgets/base",
            "_model_module_version": "1.2.0",
            "_model_name": "LayoutModel",
            "_view_count": null,
            "_view_module": "@jupyter-widgets/base",
            "_view_module_version": "1.2.0",
            "_view_name": "LayoutView",
            "align_content": null,
            "align_items": null,
            "align_self": null,
            "border": null,
            "bottom": null,
            "display": null,
            "flex": null,
            "flex_flow": null,
            "grid_area": null,
            "grid_auto_columns": null,
            "grid_auto_flow": null,
            "grid_auto_rows": null,
            "grid_column": null,
            "grid_gap": null,
            "grid_row": null,
            "grid_template_areas": null,
            "grid_template_columns": null,
            "grid_template_rows": null,
            "height": null,
            "justify_content": null,
            "justify_items": null,
            "left": null,
            "margin": null,
            "max_height": null,
            "max_width": null,
            "min_height": null,
            "min_width": null,
            "object_fit": null,
            "object_position": null,
            "order": null,
            "overflow": null,
            "overflow_x": null,
            "overflow_y": null,
            "padding": null,
            "right": null,
            "top": null,
            "visibility": null,
            "width": null
          }
        },
        "427f217fcae94d68bc72683940b211df": {
          "model_module": "@jupyter-widgets/controls",
          "model_name": "DescriptionStyleModel",
          "model_module_version": "1.5.0",
          "state": {
            "_model_module": "@jupyter-widgets/controls",
            "_model_module_version": "1.5.0",
            "_model_name": "DescriptionStyleModel",
            "_view_count": null,
            "_view_module": "@jupyter-widgets/base",
            "_view_module_version": "1.2.0",
            "_view_name": "StyleView",
            "description_width": ""
          }
        },
        "406e546850aa457e985d695d575cca16": {
          "model_module": "@jupyter-widgets/controls",
          "model_name": "HBoxModel",
          "model_module_version": "1.5.0",
          "state": {
            "_dom_classes": [],
            "_model_module": "@jupyter-widgets/controls",
            "_model_module_version": "1.5.0",
            "_model_name": "HBoxModel",
            "_view_count": null,
            "_view_module": "@jupyter-widgets/controls",
            "_view_module_version": "1.5.0",
            "_view_name": "HBoxView",
            "box_style": "",
            "children": [
              "IPY_MODEL_6197a7d1bdb04ab19e10233066734261",
              "IPY_MODEL_cc91c91029ef4ebba94b734f3f31cf49",
              "IPY_MODEL_8f05dc2879334f0f9ff8210ad9977e35"
            ],
            "layout": "IPY_MODEL_9ea2197b57584f0fb27e7ce8cb2fa85e"
          }
        },
        "6197a7d1bdb04ab19e10233066734261": {
          "model_module": "@jupyter-widgets/controls",
          "model_name": "HTMLModel",
          "model_module_version": "1.5.0",
          "state": {
            "_dom_classes": [],
            "_model_module": "@jupyter-widgets/controls",
            "_model_module_version": "1.5.0",
            "_model_name": "HTMLModel",
            "_view_count": null,
            "_view_module": "@jupyter-widgets/controls",
            "_view_module_version": "1.5.0",
            "_view_name": "HTMLView",
            "description": "",
            "description_tooltip": null,
            "layout": "IPY_MODEL_a682a5aa92784ba888bfed4d6a965d9c",
            "placeholder": "​",
            "style": "IPY_MODEL_cd123562db934eb496f2a99f07f7a599",
            "value": "Downloading: 100%"
          }
        },
        "cc91c91029ef4ebba94b734f3f31cf49": {
          "model_module": "@jupyter-widgets/controls",
          "model_name": "FloatProgressModel",
          "model_module_version": "1.5.0",
          "state": {
            "_dom_classes": [],
            "_model_module": "@jupyter-widgets/controls",
            "_model_module_version": "1.5.0",
            "_model_name": "FloatProgressModel",
            "_view_count": null,
            "_view_module": "@jupyter-widgets/controls",
            "_view_module_version": "1.5.0",
            "_view_name": "ProgressView",
            "bar_style": "success",
            "description": "",
            "description_tooltip": null,
            "layout": "IPY_MODEL_b457dd6b43d2464d920dbc6314596a95",
            "max": 213450,
            "min": 0,
            "orientation": "horizontal",
            "style": "IPY_MODEL_b55321b2fbb24881aa5c11e154cd7466",
            "value": 213450
          }
        },
        "8f05dc2879334f0f9ff8210ad9977e35": {
          "model_module": "@jupyter-widgets/controls",
          "model_name": "HTMLModel",
          "model_module_version": "1.5.0",
          "state": {
            "_dom_classes": [],
            "_model_module": "@jupyter-widgets/controls",
            "_model_module_version": "1.5.0",
            "_model_name": "HTMLModel",
            "_view_count": null,
            "_view_module": "@jupyter-widgets/controls",
            "_view_module_version": "1.5.0",
            "_view_name": "HTMLView",
            "description": "",
            "description_tooltip": null,
            "layout": "IPY_MODEL_3a1b216a88fa4994b80b3e999c4225e9",
            "placeholder": "​",
            "style": "IPY_MODEL_ca0aadf6f00b491984a8eb531820643d",
            "value": " 213k/213k [00:00&lt;00:00, 2.24MB/s]"
          }
        },
        "9ea2197b57584f0fb27e7ce8cb2fa85e": {
          "model_module": "@jupyter-widgets/base",
          "model_name": "LayoutModel",
          "model_module_version": "1.2.0",
          "state": {
            "_model_module": "@jupyter-widgets/base",
            "_model_module_version": "1.2.0",
            "_model_name": "LayoutModel",
            "_view_count": null,
            "_view_module": "@jupyter-widgets/base",
            "_view_module_version": "1.2.0",
            "_view_name": "LayoutView",
            "align_content": null,
            "align_items": null,
            "align_self": null,
            "border": null,
            "bottom": null,
            "display": null,
            "flex": null,
            "flex_flow": null,
            "grid_area": null,
            "grid_auto_columns": null,
            "grid_auto_flow": null,
            "grid_auto_rows": null,
            "grid_column": null,
            "grid_gap": null,
            "grid_row": null,
            "grid_template_areas": null,
            "grid_template_columns": null,
            "grid_template_rows": null,
            "height": null,
            "justify_content": null,
            "justify_items": null,
            "left": null,
            "margin": null,
            "max_height": null,
            "max_width": null,
            "min_height": null,
            "min_width": null,
            "object_fit": null,
            "object_position": null,
            "order": null,
            "overflow": null,
            "overflow_x": null,
            "overflow_y": null,
            "padding": null,
            "right": null,
            "top": null,
            "visibility": null,
            "width": null
          }
        },
        "a682a5aa92784ba888bfed4d6a965d9c": {
          "model_module": "@jupyter-widgets/base",
          "model_name": "LayoutModel",
          "model_module_version": "1.2.0",
          "state": {
            "_model_module": "@jupyter-widgets/base",
            "_model_module_version": "1.2.0",
            "_model_name": "LayoutModel",
            "_view_count": null,
            "_view_module": "@jupyter-widgets/base",
            "_view_module_version": "1.2.0",
            "_view_name": "LayoutView",
            "align_content": null,
            "align_items": null,
            "align_self": null,
            "border": null,
            "bottom": null,
            "display": null,
            "flex": null,
            "flex_flow": null,
            "grid_area": null,
            "grid_auto_columns": null,
            "grid_auto_flow": null,
            "grid_auto_rows": null,
            "grid_column": null,
            "grid_gap": null,
            "grid_row": null,
            "grid_template_areas": null,
            "grid_template_columns": null,
            "grid_template_rows": null,
            "height": null,
            "justify_content": null,
            "justify_items": null,
            "left": null,
            "margin": null,
            "max_height": null,
            "max_width": null,
            "min_height": null,
            "min_width": null,
            "object_fit": null,
            "object_position": null,
            "order": null,
            "overflow": null,
            "overflow_x": null,
            "overflow_y": null,
            "padding": null,
            "right": null,
            "top": null,
            "visibility": null,
            "width": null
          }
        },
        "cd123562db934eb496f2a99f07f7a599": {
          "model_module": "@jupyter-widgets/controls",
          "model_name": "DescriptionStyleModel",
          "model_module_version": "1.5.0",
          "state": {
            "_model_module": "@jupyter-widgets/controls",
            "_model_module_version": "1.5.0",
            "_model_name": "DescriptionStyleModel",
            "_view_count": null,
            "_view_module": "@jupyter-widgets/base",
            "_view_module_version": "1.2.0",
            "_view_name": "StyleView",
            "description_width": ""
          }
        },
        "b457dd6b43d2464d920dbc6314596a95": {
          "model_module": "@jupyter-widgets/base",
          "model_name": "LayoutModel",
          "model_module_version": "1.2.0",
          "state": {
            "_model_module": "@jupyter-widgets/base",
            "_model_module_version": "1.2.0",
            "_model_name": "LayoutModel",
            "_view_count": null,
            "_view_module": "@jupyter-widgets/base",
            "_view_module_version": "1.2.0",
            "_view_name": "LayoutView",
            "align_content": null,
            "align_items": null,
            "align_self": null,
            "border": null,
            "bottom": null,
            "display": null,
            "flex": null,
            "flex_flow": null,
            "grid_area": null,
            "grid_auto_columns": null,
            "grid_auto_flow": null,
            "grid_auto_rows": null,
            "grid_column": null,
            "grid_gap": null,
            "grid_row": null,
            "grid_template_areas": null,
            "grid_template_columns": null,
            "grid_template_rows": null,
            "height": null,
            "justify_content": null,
            "justify_items": null,
            "left": null,
            "margin": null,
            "max_height": null,
            "max_width": null,
            "min_height": null,
            "min_width": null,
            "object_fit": null,
            "object_position": null,
            "order": null,
            "overflow": null,
            "overflow_x": null,
            "overflow_y": null,
            "padding": null,
            "right": null,
            "top": null,
            "visibility": null,
            "width": null
          }
        },
        "b55321b2fbb24881aa5c11e154cd7466": {
          "model_module": "@jupyter-widgets/controls",
          "model_name": "ProgressStyleModel",
          "model_module_version": "1.5.0",
          "state": {
            "_model_module": "@jupyter-widgets/controls",
            "_model_module_version": "1.5.0",
            "_model_name": "ProgressStyleModel",
            "_view_count": null,
            "_view_module": "@jupyter-widgets/base",
            "_view_module_version": "1.2.0",
            "_view_name": "StyleView",
            "bar_color": null,
            "description_width": ""
          }
        },
        "3a1b216a88fa4994b80b3e999c4225e9": {
          "model_module": "@jupyter-widgets/base",
          "model_name": "LayoutModel",
          "model_module_version": "1.2.0",
          "state": {
            "_model_module": "@jupyter-widgets/base",
            "_model_module_version": "1.2.0",
            "_model_name": "LayoutModel",
            "_view_count": null,
            "_view_module": "@jupyter-widgets/base",
            "_view_module_version": "1.2.0",
            "_view_name": "LayoutView",
            "align_content": null,
            "align_items": null,
            "align_self": null,
            "border": null,
            "bottom": null,
            "display": null,
            "flex": null,
            "flex_flow": null,
            "grid_area": null,
            "grid_auto_columns": null,
            "grid_auto_flow": null,
            "grid_auto_rows": null,
            "grid_column": null,
            "grid_gap": null,
            "grid_row": null,
            "grid_template_areas": null,
            "grid_template_columns": null,
            "grid_template_rows": null,
            "height": null,
            "justify_content": null,
            "justify_items": null,
            "left": null,
            "margin": null,
            "max_height": null,
            "max_width": null,
            "min_height": null,
            "min_width": null,
            "object_fit": null,
            "object_position": null,
            "order": null,
            "overflow": null,
            "overflow_x": null,
            "overflow_y": null,
            "padding": null,
            "right": null,
            "top": null,
            "visibility": null,
            "width": null
          }
        },
        "ca0aadf6f00b491984a8eb531820643d": {
          "model_module": "@jupyter-widgets/controls",
          "model_name": "DescriptionStyleModel",
          "model_module_version": "1.5.0",
          "state": {
            "_model_module": "@jupyter-widgets/controls",
            "_model_module_version": "1.5.0",
            "_model_name": "DescriptionStyleModel",
            "_view_count": null,
            "_view_module": "@jupyter-widgets/base",
            "_view_module_version": "1.2.0",
            "_view_name": "StyleView",
            "description_width": ""
          }
        },
        "4b6481c780d5459fbf05bfc6b710e8f2": {
          "model_module": "@jupyter-widgets/controls",
          "model_name": "HBoxModel",
          "model_module_version": "1.5.0",
          "state": {
            "_dom_classes": [],
            "_model_module": "@jupyter-widgets/controls",
            "_model_module_version": "1.5.0",
            "_model_name": "HBoxModel",
            "_view_count": null,
            "_view_module": "@jupyter-widgets/controls",
            "_view_module_version": "1.5.0",
            "_view_name": "HBoxView",
            "box_style": "",
            "children": [
              "IPY_MODEL_535531cf83374888904156aca859cefb",
              "IPY_MODEL_8a091106a2314778a0788ece62494405",
              "IPY_MODEL_521a1b285c5f4f4e91fd45d07e1e8b34"
            ],
            "layout": "IPY_MODEL_fab92ca74fbc470ebd9502383850e64e"
          }
        },
        "535531cf83374888904156aca859cefb": {
          "model_module": "@jupyter-widgets/controls",
          "model_name": "HTMLModel",
          "model_module_version": "1.5.0",
          "state": {
            "_dom_classes": [],
            "_model_module": "@jupyter-widgets/controls",
            "_model_module_version": "1.5.0",
            "_model_name": "HTMLModel",
            "_view_count": null,
            "_view_module": "@jupyter-widgets/controls",
            "_view_module_version": "1.5.0",
            "_view_name": "HTMLView",
            "description": "",
            "description_tooltip": null,
            "layout": "IPY_MODEL_265cbf81c96f47acad7b1fdf36b76faf",
            "placeholder": "​",
            "style": "IPY_MODEL_0328758e7a124c9cb956e146f7284904",
            "value": "Downloading: 100%"
          }
        },
        "8a091106a2314778a0788ece62494405": {
          "model_module": "@jupyter-widgets/controls",
          "model_name": "FloatProgressModel",
          "model_module_version": "1.5.0",
          "state": {
            "_dom_classes": [],
            "_model_module": "@jupyter-widgets/controls",
            "_model_module_version": "1.5.0",
            "_model_name": "FloatProgressModel",
            "_view_count": null,
            "_view_module": "@jupyter-widgets/controls",
            "_view_module_version": "1.5.0",
            "_view_name": "ProgressView",
            "bar_style": "success",
            "description": "",
            "description_tooltip": null,
            "layout": "IPY_MODEL_059cce9571514ef880df0d0cc48c87f4",
            "max": 435797,
            "min": 0,
            "orientation": "horizontal",
            "style": "IPY_MODEL_fae3057edeaf48498f02bd22c40df6ab",
            "value": 435797
          }
        },
        "521a1b285c5f4f4e91fd45d07e1e8b34": {
          "model_module": "@jupyter-widgets/controls",
          "model_name": "HTMLModel",
          "model_module_version": "1.5.0",
          "state": {
            "_dom_classes": [],
            "_model_module": "@jupyter-widgets/controls",
            "_model_module_version": "1.5.0",
            "_model_name": "HTMLModel",
            "_view_count": null,
            "_view_module": "@jupyter-widgets/controls",
            "_view_module_version": "1.5.0",
            "_view_name": "HTMLView",
            "description": "",
            "description_tooltip": null,
            "layout": "IPY_MODEL_135d7833aef94890b4b45e70e7120439",
            "placeholder": "​",
            "style": "IPY_MODEL_24fb043285c045eeb6a83b35f52b2d58",
            "value": " 436k/436k [00:00&lt;00:00, 1.82MB/s]"
          }
        },
        "fab92ca74fbc470ebd9502383850e64e": {
          "model_module": "@jupyter-widgets/base",
          "model_name": "LayoutModel",
          "model_module_version": "1.2.0",
          "state": {
            "_model_module": "@jupyter-widgets/base",
            "_model_module_version": "1.2.0",
            "_model_name": "LayoutModel",
            "_view_count": null,
            "_view_module": "@jupyter-widgets/base",
            "_view_module_version": "1.2.0",
            "_view_name": "LayoutView",
            "align_content": null,
            "align_items": null,
            "align_self": null,
            "border": null,
            "bottom": null,
            "display": null,
            "flex": null,
            "flex_flow": null,
            "grid_area": null,
            "grid_auto_columns": null,
            "grid_auto_flow": null,
            "grid_auto_rows": null,
            "grid_column": null,
            "grid_gap": null,
            "grid_row": null,
            "grid_template_areas": null,
            "grid_template_columns": null,
            "grid_template_rows": null,
            "height": null,
            "justify_content": null,
            "justify_items": null,
            "left": null,
            "margin": null,
            "max_height": null,
            "max_width": null,
            "min_height": null,
            "min_width": null,
            "object_fit": null,
            "object_position": null,
            "order": null,
            "overflow": null,
            "overflow_x": null,
            "overflow_y": null,
            "padding": null,
            "right": null,
            "top": null,
            "visibility": null,
            "width": null
          }
        },
        "265cbf81c96f47acad7b1fdf36b76faf": {
          "model_module": "@jupyter-widgets/base",
          "model_name": "LayoutModel",
          "model_module_version": "1.2.0",
          "state": {
            "_model_module": "@jupyter-widgets/base",
            "_model_module_version": "1.2.0",
            "_model_name": "LayoutModel",
            "_view_count": null,
            "_view_module": "@jupyter-widgets/base",
            "_view_module_version": "1.2.0",
            "_view_name": "LayoutView",
            "align_content": null,
            "align_items": null,
            "align_self": null,
            "border": null,
            "bottom": null,
            "display": null,
            "flex": null,
            "flex_flow": null,
            "grid_area": null,
            "grid_auto_columns": null,
            "grid_auto_flow": null,
            "grid_auto_rows": null,
            "grid_column": null,
            "grid_gap": null,
            "grid_row": null,
            "grid_template_areas": null,
            "grid_template_columns": null,
            "grid_template_rows": null,
            "height": null,
            "justify_content": null,
            "justify_items": null,
            "left": null,
            "margin": null,
            "max_height": null,
            "max_width": null,
            "min_height": null,
            "min_width": null,
            "object_fit": null,
            "object_position": null,
            "order": null,
            "overflow": null,
            "overflow_x": null,
            "overflow_y": null,
            "padding": null,
            "right": null,
            "top": null,
            "visibility": null,
            "width": null
          }
        },
        "0328758e7a124c9cb956e146f7284904": {
          "model_module": "@jupyter-widgets/controls",
          "model_name": "DescriptionStyleModel",
          "model_module_version": "1.5.0",
          "state": {
            "_model_module": "@jupyter-widgets/controls",
            "_model_module_version": "1.5.0",
            "_model_name": "DescriptionStyleModel",
            "_view_count": null,
            "_view_module": "@jupyter-widgets/base",
            "_view_module_version": "1.2.0",
            "_view_name": "StyleView",
            "description_width": ""
          }
        },
        "059cce9571514ef880df0d0cc48c87f4": {
          "model_module": "@jupyter-widgets/base",
          "model_name": "LayoutModel",
          "model_module_version": "1.2.0",
          "state": {
            "_model_module": "@jupyter-widgets/base",
            "_model_module_version": "1.2.0",
            "_model_name": "LayoutModel",
            "_view_count": null,
            "_view_module": "@jupyter-widgets/base",
            "_view_module_version": "1.2.0",
            "_view_name": "LayoutView",
            "align_content": null,
            "align_items": null,
            "align_self": null,
            "border": null,
            "bottom": null,
            "display": null,
            "flex": null,
            "flex_flow": null,
            "grid_area": null,
            "grid_auto_columns": null,
            "grid_auto_flow": null,
            "grid_auto_rows": null,
            "grid_column": null,
            "grid_gap": null,
            "grid_row": null,
            "grid_template_areas": null,
            "grid_template_columns": null,
            "grid_template_rows": null,
            "height": null,
            "justify_content": null,
            "justify_items": null,
            "left": null,
            "margin": null,
            "max_height": null,
            "max_width": null,
            "min_height": null,
            "min_width": null,
            "object_fit": null,
            "object_position": null,
            "order": null,
            "overflow": null,
            "overflow_x": null,
            "overflow_y": null,
            "padding": null,
            "right": null,
            "top": null,
            "visibility": null,
            "width": null
          }
        },
        "fae3057edeaf48498f02bd22c40df6ab": {
          "model_module": "@jupyter-widgets/controls",
          "model_name": "ProgressStyleModel",
          "model_module_version": "1.5.0",
          "state": {
            "_model_module": "@jupyter-widgets/controls",
            "_model_module_version": "1.5.0",
            "_model_name": "ProgressStyleModel",
            "_view_count": null,
            "_view_module": "@jupyter-widgets/base",
            "_view_module_version": "1.2.0",
            "_view_name": "StyleView",
            "bar_color": null,
            "description_width": ""
          }
        },
        "135d7833aef94890b4b45e70e7120439": {
          "model_module": "@jupyter-widgets/base",
          "model_name": "LayoutModel",
          "model_module_version": "1.2.0",
          "state": {
            "_model_module": "@jupyter-widgets/base",
            "_model_module_version": "1.2.0",
            "_model_name": "LayoutModel",
            "_view_count": null,
            "_view_module": "@jupyter-widgets/base",
            "_view_module_version": "1.2.0",
            "_view_name": "LayoutView",
            "align_content": null,
            "align_items": null,
            "align_self": null,
            "border": null,
            "bottom": null,
            "display": null,
            "flex": null,
            "flex_flow": null,
            "grid_area": null,
            "grid_auto_columns": null,
            "grid_auto_flow": null,
            "grid_auto_rows": null,
            "grid_column": null,
            "grid_gap": null,
            "grid_row": null,
            "grid_template_areas": null,
            "grid_template_columns": null,
            "grid_template_rows": null,
            "height": null,
            "justify_content": null,
            "justify_items": null,
            "left": null,
            "margin": null,
            "max_height": null,
            "max_width": null,
            "min_height": null,
            "min_width": null,
            "object_fit": null,
            "object_position": null,
            "order": null,
            "overflow": null,
            "overflow_x": null,
            "overflow_y": null,
            "padding": null,
            "right": null,
            "top": null,
            "visibility": null,
            "width": null
          }
        },
        "24fb043285c045eeb6a83b35f52b2d58": {
          "model_module": "@jupyter-widgets/controls",
          "model_name": "DescriptionStyleModel",
          "model_module_version": "1.5.0",
          "state": {
            "_model_module": "@jupyter-widgets/controls",
            "_model_module_version": "1.5.0",
            "_model_name": "DescriptionStyleModel",
            "_view_count": null,
            "_view_module": "@jupyter-widgets/base",
            "_view_module_version": "1.2.0",
            "_view_name": "StyleView",
            "description_width": ""
          }
        }
      }
    }
  },
  "nbformat": 4,
  "nbformat_minor": 0
}