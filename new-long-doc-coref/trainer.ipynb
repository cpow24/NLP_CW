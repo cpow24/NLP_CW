{
  "cells": [
    {
      "cell_type": "markdown",
      "metadata": {
        "id": "t_uYjZD9Wzry"
      },
      "source": [
        "**Preliminaries:** Some local paths have been changed in order to be able to run in colab, below is a list of files and locations where a change has been made. Replace the local path with whatever the equivalent is on your drive.\n",
        "\n",
        "- ../src/mention_model/main.py (line 7)\n",
        "- ../src/data_processing/independent_litbank.py (line 12)\n",
        "- ../src/data_processing/overlap_litbank.py (line 12)\n",
        "- ../src/auto_memory_model/main.py (line 9)"
      ]
    },
    {
      "cell_type": "markdown",
      "metadata": {
        "id": "gnBl60XLWrY_"
      },
      "source": [
        "**STEP 1:** Mount Google Drive and import libraries"
      ]
    },
    {
      "cell_type": "code",
      "execution_count": null,
      "metadata": {
        "id": "9_n04Y0XWiBT"
      },
      "outputs": [],
      "source": [
        "from google.colab import drive\n",
        "drive.mount('/content/drive')"
      ]
    },
    {
      "cell_type": "code",
      "execution_count": null,
      "metadata": {
        "id": "5rr5zYrQaPBU"
      },
      "outputs": [],
      "source": [
        "%cd /content/drive/MyDrive/University/MSc Machine Learning/Term 2/COMP0087 - SNLP/Coursework/long-doc-coref_edit"
      ]
    },
    {
      "cell_type": "code",
      "execution_count": null,
      "metadata": {
        "id": "HBH6AtBJaEll"
      },
      "outputs": [],
      "source": [
        "!pip install transformers\n",
        "!pip install -r requirements.txt"
      ]
    },
    {
      "cell_type": "code",
      "execution_count": null,
      "metadata": {
        "id": "FzcKJktWaJUZ"
      },
      "outputs": [],
      "source": [
        "!git clone https://github.com/conll/reference-coreference-scorers\n",
        "!git clone https://github.com/dbamman/lrec2020-coref"
      ]
    },
    {
      "cell_type": "code",
      "execution_count": null,
      "metadata": {
        "id": "ShPTt9_VaQaI"
      },
      "outputs": [],
      "source": [
        "%cd lrec2020-coref/"
      ]
    },
    {
      "cell_type": "markdown",
      "metadata": {
        "id": "tNfRxAmjaSUh"
      },
      "source": [
        "**STEP 2:** Getting .conll files and splitting them for 10-fold cross-validation"
      ]
    },
    {
      "cell_type": "code",
      "execution_count": null,
      "metadata": {
        "id": "t4NeQ4wFaix_"
      },
      "outputs": [],
      "source": [
        "!python scripts/create_crossval.py data/litbank_tenfold_splits data/original/conll/  data/litbank_tenfold_splits"
      ]
    },
    {
      "cell_type": "markdown",
      "metadata": {
        "id": "wJB7BYzQa6Bx"
      },
      "source": [
        "**STEP 3:** Training Mention Model on new_conll Dataset"
      ]
    },
    {
      "cell_type": "code",
      "execution_count": null,
      "metadata": {
        "id": "mukv2e_obABG"
      },
      "outputs": [],
      "source": [
        "%cd ../src"
      ]
    },
    {
      "cell_type": "code",
      "execution_count": null,
      "metadata": {
        "id": "PG9ou_XWbDc8"
      },
      "outputs": [],
      "source": [
        "!python mention_model/main.py -cross_val_split 0 -max_span_width 20 -top_span_ratio 0.3 -max_epochs 25"
      ]
    },
    {
      "cell_type": "markdown",
      "metadata": {
        "id": "9VBsXq9wb7uK"
      },
      "source": [
        "**STEP 4:** Training of Coreference Model (on original dataset)"
      ]
    },
    {
      "cell_type": "code",
      "execution_count": null,
      "metadata": {
        "id": "qW_dc6D_bjcl"
      },
      "outputs": [],
      "source": [
        "!python auto_memory_model/main.py -dataset litbank -mem_type learned -num_cells 20 -top_span_ratio 0.3 -max_span_width 20 -max_epochs 25 -dropout_rate 0.3 -sample_invalid 0.25 -new_ent_wt 2.0 -cross_val_split 3 -max_training_segments 5 -seed 0"
      ]
    }
  ],
  "metadata": {
    "colab": {
      "name": "trainer.ipynb",
      "provenance": []
    },
    "kernelspec": {
      "display_name": "Python 3",
      "name": "python3"
    },
    "language_info": {
      "name": "python"
    }
  },
  "nbformat": 4,
  "nbformat_minor": 0
}
