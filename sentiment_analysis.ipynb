{
 "cells": [
  {
   "cell_type": "code",
   "execution_count": 1,
   "id": "5ab9fa84-aafc-4b50-bd5d-65aa5b45676f",
   "metadata": {},
   "outputs": [
    {
     "name": "stdout",
     "output_type": "stream",
     "text": [
      "Requirement already satisfied: vaderSentiment in c:\\users\\conor\\anaconda3\\lib\\site-packages (3.3.2)\n",
      "Requirement already satisfied: requests in c:\\users\\conor\\anaconda3\\lib\\site-packages (from vaderSentiment) (2.25.1)\n",
      "Requirement already satisfied: idna<3,>=2.5 in c:\\users\\conor\\anaconda3\\lib\\site-packages (from requests->vaderSentiment) (2.10)\n",
      "Requirement already satisfied: certifi>=2017.4.17 in c:\\users\\conor\\anaconda3\\lib\\site-packages (from requests->vaderSentiment) (2020.12.5)\n",
      "Requirement already satisfied: urllib3<1.27,>=1.21.1 in c:\\users\\conor\\anaconda3\\lib\\site-packages (from requests->vaderSentiment) (1.26.4)\n",
      "Requirement already satisfied: chardet<5,>=3.0.2 in c:\\users\\conor\\anaconda3\\lib\\site-packages (from requests->vaderSentiment) (4.0.0)\n"
     ]
    }
   ],
   "source": [
    "!pip install vaderSentiment"
   ]
  },
  {
   "cell_type": "code",
   "execution_count": 2,
   "id": "d963f4ce-c072-44c5-9973-782677392da6",
   "metadata": {},
   "outputs": [
    {
     "name": "stderr",
     "output_type": "stream",
     "text": [
      "[nltk_data] Downloading package punkt to\n",
      "[nltk_data]     C:\\Users\\conor\\AppData\\Roaming\\nltk_data...\n",
      "[nltk_data]   Package punkt is already up-to-date!\n"
     ]
    }
   ],
   "source": [
    "#import the library\n",
    "from vaderSentiment.vaderSentiment import SentimentIntensityAnalyzer\n",
    "import pandas as pd\n",
    "import nltk\n",
    "nltk.download('punkt')\n",
    "import matplotlib.pyplot as plt\n",
    "import seaborn as sns"
   ]
  },
  {
   "cell_type": "code",
   "execution_count": 3,
   "id": "95eb9acf-5fdd-4dde-8de0-c32cbabac690",
   "metadata": {},
   "outputs": [],
   "source": [
    "#calculate the negative, positive, neutral and compound scores, plus verbal evaluation\n",
    "def sentiment_vader(sentence):\n",
    "\n",
    "    # Create a SentimentIntensityAnalyzer object.\n",
    "    sid_obj = SentimentIntensityAnalyzer()\n",
    "\n",
    "    sentiment_dict = sid_obj.polarity_scores(sentence)\n",
    "    negative = sentiment_dict['neg']\n",
    "    neutral = sentiment_dict['neu']\n",
    "    positive = sentiment_dict['pos']\n",
    "    compound = sentiment_dict['compound']\n",
    "\n",
    "    if sentiment_dict['compound'] >= 0.05 :\n",
    "        overall_sentiment = \"Positive\"\n",
    "\n",
    "    elif sentiment_dict['compound'] <= - 0.05 :\n",
    "        overall_sentiment = \"Negative\"\n",
    "\n",
    "    else :\n",
    "        overall_sentiment = \"Neutral\"\n",
    "  \n",
    "    return negative, neutral, positive, compound, overall_sentiment"
   ]
  },
  {
   "cell_type": "code",
   "execution_count": 4,
   "id": "2688fc4d-47ca-40b5-ac0e-11e219e94898",
   "metadata": {},
   "outputs": [],
   "source": [
    "stories = pd.read_csv('fairytales.csv', delimiter=',')"
   ]
  },
  {
   "cell_type": "code",
   "execution_count": 5,
   "id": "32a33f4b-ce04-4647-8fe8-66fdbb4c20cb",
   "metadata": {},
   "outputs": [
    {
     "data": {
      "text/html": [
       "<div>\n",
       "<style scoped>\n",
       "    .dataframe tbody tr th:only-of-type {\n",
       "        vertical-align: middle;\n",
       "    }\n",
       "\n",
       "    .dataframe tbody tr th {\n",
       "        vertical-align: top;\n",
       "    }\n",
       "\n",
       "    .dataframe thead th {\n",
       "        text-align: right;\n",
       "    }\n",
       "</style>\n",
       "<table border=\"1\" class=\"dataframe\">\n",
       "  <thead>\n",
       "    <tr style=\"text-align: right;\">\n",
       "      <th></th>\n",
       "      <th>Title</th>\n",
       "      <th>Text</th>\n",
       "    </tr>\n",
       "  </thead>\n",
       "  <tbody>\n",
       "    <tr>\n",
       "      <th>0</th>\n",
       "      <td>HANSEL AND GRETEL</td>\n",
       "      <td>Hard by a great forest dwelt a poor wood-cutte...</td>\n",
       "    </tr>\n",
       "    <tr>\n",
       "      <th>1</th>\n",
       "      <td>RAPUNZEL</td>\n",
       "      <td>There were once a man and a woman who had long...</td>\n",
       "    </tr>\n",
       "    <tr>\n",
       "      <th>2</th>\n",
       "      <td>THE GOOSE-GIRL</td>\n",
       "      <td>The king of a great land died, and left his qu...</td>\n",
       "    </tr>\n",
       "    <tr>\n",
       "      <th>3</th>\n",
       "      <td>LITTLE RED-CAP</td>\n",
       "      <td>Once upon a time there was a dear little girl ...</td>\n",
       "    </tr>\n",
       "    <tr>\n",
       "      <th>4</th>\n",
       "      <td>THE FROG-PRINCE</td>\n",
       "      <td>One fine evening a young princess put on her b...</td>\n",
       "    </tr>\n",
       "    <tr>\n",
       "      <th>...</th>\n",
       "      <td>...</td>\n",
       "      <td>...</td>\n",
       "    </tr>\n",
       "    <tr>\n",
       "      <th>57</th>\n",
       "      <td>THE STORY OF THE YOUTH WHO WENT FORTH TO LEARN...</td>\n",
       "      <td>A certain father had two sons, the elder of wh...</td>\n",
       "    </tr>\n",
       "    <tr>\n",
       "      <th>58</th>\n",
       "      <td>KING GRISLY-BEARD</td>\n",
       "      <td>A great king of a land far away in the East ha...</td>\n",
       "    </tr>\n",
       "    <tr>\n",
       "      <th>59</th>\n",
       "      <td>IRON HANS</td>\n",
       "      <td>There was once upon a time a king who had a gr...</td>\n",
       "    </tr>\n",
       "    <tr>\n",
       "      <th>60</th>\n",
       "      <td>CAT-SKIN</td>\n",
       "      <td>There was once a king, whose queen had hair of...</td>\n",
       "    </tr>\n",
       "    <tr>\n",
       "      <th>61</th>\n",
       "      <td>SNOW-WHITE AND ROSE-RED</td>\n",
       "      <td>There was once a poor widow who lived in a lon...</td>\n",
       "    </tr>\n",
       "  </tbody>\n",
       "</table>\n",
       "<p>62 rows × 2 columns</p>\n",
       "</div>"
      ],
      "text/plain": [
       "                                                Title  \\\n",
       "0                                   HANSEL AND GRETEL   \n",
       "1                                            RAPUNZEL   \n",
       "2                                      THE GOOSE-GIRL   \n",
       "3                                      LITTLE RED-CAP   \n",
       "4                                     THE FROG-PRINCE   \n",
       "..                                                ...   \n",
       "57  THE STORY OF THE YOUTH WHO WENT FORTH TO LEARN...   \n",
       "58                                  KING GRISLY-BEARD   \n",
       "59                                          IRON HANS   \n",
       "60                                           CAT-SKIN   \n",
       "61                            SNOW-WHITE AND ROSE-RED   \n",
       "\n",
       "                                                 Text  \n",
       "0   Hard by a great forest dwelt a poor wood-cutte...  \n",
       "1   There were once a man and a woman who had long...  \n",
       "2   The king of a great land died, and left his qu...  \n",
       "3   Once upon a time there was a dear little girl ...  \n",
       "4   One fine evening a young princess put on her b...  \n",
       "..                                                ...  \n",
       "57  A certain father had two sons, the elder of wh...  \n",
       "58  A great king of a land far away in the East ha...  \n",
       "59  There was once upon a time a king who had a gr...  \n",
       "60  There was once a king, whose queen had hair of...  \n",
       "61  There was once a poor widow who lived in a lon...  \n",
       "\n",
       "[62 rows x 2 columns]"
      ]
     },
     "execution_count": 5,
     "metadata": {},
     "output_type": "execute_result"
    }
   ],
   "source": [
    "stories"
   ]
  },
  {
   "cell_type": "code",
   "execution_count": 6,
   "id": "9dc9b127-5620-43a5-aa12-521d7c7f3d24",
   "metadata": {},
   "outputs": [],
   "source": [
    "#Hansel and Gretel\n",
    "hg = stories['Text'][0]\n",
    "\n",
    "#Little Red-Cap\n",
    "lrc = stories['Text'][3]"
   ]
  },
  {
   "cell_type": "code",
   "execution_count": 25,
   "id": "5704cb4a-e0a8-41b7-b24c-8e351cac1ed3",
   "metadata": {},
   "outputs": [],
   "source": [
    "def get_char_sentiment(text, char_1, char_2):\n",
    "\n",
    "    tokens = nltk.sent_tokenize(text)\n",
    "    shared_sentences = []\n",
    "    sentiment = []\n",
    "    total_sentiment = 0.0\n",
    "    \n",
    "    for t in tokens:\n",
    "        if (char_1 in t) & (char_2 in t):\n",
    "            shared_sentences.append(t)\n",
    "            curr_sentiment = sentiment_vader(t)[3]\n",
    "            total_sentiment += curr_sentiment\n",
    "            sentiment.append(curr_sentiment)\n",
    "\n",
    "    overall_sentiment = ''\n",
    "    average_sentiment = total_sentiment / len(shared_sentences)\n",
    "    \n",
    "    if average_sentiment >= 0.05 :\n",
    "        overall_sentiment = \"Positive\"\n",
    "\n",
    "    elif average_sentiment <= - 0.05 :\n",
    "        overall_sentiment = \"Negative\"\n",
    "\n",
    "    else:\n",
    "        overall_sentiment = \"Neutral\"\n",
    "    \n",
    "    print(f'Relationship: {char_1} & {char_2}')\n",
    "    print(f'Sentiment: {overall_sentiment}')\n",
    "    print(f'Sentiment Score: {average_sentiment}')\n",
    "    \n",
    "    x = list(range(1, len(shared_sentences)+1))\n",
    "    sent_df = pd.DataFrame(columns=['Sentence', 'Sentiment'])\n",
    "    sent_df['Sentence'] = x\n",
    "    sent_df['Sentiment'] = sentiment\n",
    "    \n",
    "    \n",
    "    sns.lineplot(data = sent_df, x = 'Sentence', y = 'Sentiment').set(title=f'Relationship: {char_1} & {char_2}')"
   ]
  },
  {
   "cell_type": "code",
   "execution_count": 26,
   "id": "fec8b17d-8dca-47c7-a7e0-e73fd4bac020",
   "metadata": {},
   "outputs": [
    {
     "name": "stdout",
     "output_type": "stream",
     "text": [
      "Relationship: Hansel & Gretel\n",
      "Sentiment: Positive\n",
      "Sentiment Score: 0.133415\n"
     ]
    },
    {
     "data": {
      "image/png": "[encoded data removed]",
      "text/plain": [
       "<Figure size 432x288 with 1 Axes>"
      ]
     },
     "metadata": {
      "needs_background": "light"
     },
     "output_type": "display_data"
    }
   ],
   "source": [
    "get_char_sentiment(hg, 'Hansel', 'Gretel')"
   ]
  },
  {
   "cell_type": "code",
   "execution_count": 27,
   "id": "1cb8e3ce-2479-4de2-a120-15cd43320979",
   "metadata": {},
   "outputs": [
    {
     "name": "stdout",
     "output_type": "stream",
     "text": [
      "Relationship: Little Red-Cap & wolf\n",
      "Sentiment: Negative\n",
      "Sentiment Score: -0.066025\n"
     ]
    },
    {
     "data": {
      "image/png": "[encoded data removed]",
      "text/plain": [
       "<Figure size 432x288 with 1 Axes>"
      ]
     },
     "metadata": {
      "needs_background": "light"
     },
     "output_type": "display_data"
    }
   ],
   "source": [
    "get_char_sentiment(lrc, 'Little Red-Cap', 'wolf')"
   ]
  }
 ],
 "metadata": {
  "kernelspec": {
   "display_name": "Python 3",
   "language": "python",
   "name": "python3"
  },
  "language_info": {
   "codemirror_mode": {
    "name": "ipython",
    "version": 3
   },
   "file_extension": ".py",
   "mimetype": "text/x-python",
   "name": "python",
   "nbconvert_exporter": "python",
   "pygments_lexer": "ipython3",
   "version": "3.8.8"
  }
 },
 "nbformat": 4,
 "nbformat_minor": 5
}
